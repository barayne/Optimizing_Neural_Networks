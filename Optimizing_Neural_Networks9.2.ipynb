{
  "cells": [
    {
      "cell_type": "markdown",
      "metadata": {
        "id": "G7AxIWGca5k9"
      },
      "source": [
        "# <font color='#2F4F4F'>1. Defining the Question</font>"
      ]
    },
    {
      "cell_type": "markdown",
      "metadata": {
        "id": "a8d2jRARa5k_"
      },
      "source": [
        "### a) Specifying the Data Analysis Question\n",
        "\n",
        "While there was some element of luck involved in surviving, it seems some groups of people were more likely to survive than others. In this challenge, you have been tasked to build a predictive model that answers the question: “what sorts of people were more likely to survive?” using passenger data (ie name, age, gender, socio-economic class, etc). You will be required to perform feature engineering then tune your most accurate model."
      ]
    },
    {
      "cell_type": "markdown",
      "metadata": {
        "id": "rIJp00fPa5lA"
      },
      "source": [
        "### b) Defining the Metric for Success\n",
        "\n",
        "We will use the accuracy score as a metric for our success with 80% as success."
      ]
    },
    {
      "cell_type": "markdown",
      "metadata": {
        "id": "uVkmkKxGa5lB"
      },
      "source": [
        "### c) Understanding the Context \n",
        "\n",
        "The sinking of the Titanic is one of the most infamous shipwrecks in history. On April 15, 1912, during her maiden voyage, the widely considered “unsinkable” RMS Titanic sank after colliding with an iceberg. Unfortunately, there weren’t enough lifeboats for everyone on board, resulting in the death of 1502 out of 2224 passengers and crew."
      ]
    },
    {
      "cell_type": "markdown",
      "metadata": {
        "id": "U45AQzSta5lC"
      },
      "source": [
        "### d) Recording the Experimental Design\n",
        "\n",
        "* Defining the Research Question\n",
        "* Data Importation\n",
        "* Data Exploration\n",
        "* Data Cleaning\n",
        "* Data Analysis (Univariate and Bivariate)\n",
        "* Data Preparation\n",
        "* Data Modeling\n",
        "* Model Evaluation\n",
        "* Challenging your Solution\n",
        "* Recommendations / Conclusion "
      ]
    },
    {
      "cell_type": "markdown",
      "metadata": {
        "id": "nqqojWFna5lD"
      },
      "source": [
        "### e) Data Relevance\n",
        "\n",
        "The data is appropriate for the research question."
      ]
    },
    {
      "cell_type": "markdown",
      "metadata": {
        "id": "XUluBpAda5lD"
      },
      "source": [
        "# <font color='#2F4F4F'>2. Data Cleaning & Preparation</font>"
      ]
    },
    {
      "cell_type": "code",
      "execution_count": 22,
      "metadata": {
        "id": "JG62GbR7a5lE"
      },
      "outputs": [],
      "source": [
        "# loading libraries\n",
        "import pandas as pd\n",
        "import numpy as np\n",
        "import matplotlib.pyplot as plt\n",
        "import seaborn as sns\n",
        "\n",
        "pd.set_option('display.max.columns', None)\n",
        "pd.set_option('display.max_colwidth', None)\n",
        "%matplotlib inline"
      ]
    },
    {
      "cell_type": "code",
      "execution_count": 23,
      "metadata": {
        "id": "PgRU61fCa5lI",
        "scrolled": true
      },
      "outputs": [
        {
          "data": {
            "text/html": [
              "<div>\n",
              "<style scoped>\n",
              "    .dataframe tbody tr th:only-of-type {\n",
              "        vertical-align: middle;\n",
              "    }\n",
              "\n",
              "    .dataframe tbody tr th {\n",
              "        vertical-align: top;\n",
              "    }\n",
              "\n",
              "    .dataframe thead th {\n",
              "        text-align: right;\n",
              "    }\n",
              "</style>\n",
              "<table border=\"1\" class=\"dataframe\">\n",
              "  <thead>\n",
              "    <tr style=\"text-align: right;\">\n",
              "      <th></th>\n",
              "      <th>PassengerId</th>\n",
              "      <th>Survived</th>\n",
              "      <th>Pclass</th>\n",
              "      <th>Name</th>\n",
              "      <th>Sex</th>\n",
              "      <th>Age</th>\n",
              "      <th>SibSp</th>\n",
              "      <th>Parch</th>\n",
              "      <th>Ticket</th>\n",
              "      <th>Fare</th>\n",
              "      <th>Cabin</th>\n",
              "      <th>Embarked</th>\n",
              "    </tr>\n",
              "  </thead>\n",
              "  <tbody>\n",
              "    <tr>\n",
              "      <th>3</th>\n",
              "      <td>4</td>\n",
              "      <td>1</td>\n",
              "      <td>1</td>\n",
              "      <td>Futrelle, Mrs. Jacques Heath (Lily May Peel)</td>\n",
              "      <td>female</td>\n",
              "      <td>35.0</td>\n",
              "      <td>1</td>\n",
              "      <td>0</td>\n",
              "      <td>113803</td>\n",
              "      <td>53.1000</td>\n",
              "      <td>C123</td>\n",
              "      <td>S</td>\n",
              "    </tr>\n",
              "    <tr>\n",
              "      <th>117</th>\n",
              "      <td>118</td>\n",
              "      <td>0</td>\n",
              "      <td>2</td>\n",
              "      <td>Turpin, Mr. William John Robert</td>\n",
              "      <td>male</td>\n",
              "      <td>29.0</td>\n",
              "      <td>1</td>\n",
              "      <td>0</td>\n",
              "      <td>11668</td>\n",
              "      <td>21.0000</td>\n",
              "      <td>NaN</td>\n",
              "      <td>S</td>\n",
              "    </tr>\n",
              "    <tr>\n",
              "      <th>879</th>\n",
              "      <td>880</td>\n",
              "      <td>1</td>\n",
              "      <td>1</td>\n",
              "      <td>Potter, Mrs. Thomas Jr (Lily Alexenia Wilson)</td>\n",
              "      <td>female</td>\n",
              "      <td>56.0</td>\n",
              "      <td>0</td>\n",
              "      <td>1</td>\n",
              "      <td>11767</td>\n",
              "      <td>83.1583</td>\n",
              "      <td>C50</td>\n",
              "      <td>C</td>\n",
              "    </tr>\n",
              "  </tbody>\n",
              "</table>\n",
              "</div>"
            ],
            "text/plain": [
              "     PassengerId  Survived  Pclass  \\\n",
              "3              4         1       1   \n",
              "117          118         0       2   \n",
              "879          880         1       1   \n",
              "\n",
              "                                              Name     Sex   Age  SibSp  \\\n",
              "3     Futrelle, Mrs. Jacques Heath (Lily May Peel)  female  35.0      1   \n",
              "117                Turpin, Mr. William John Robert    male  29.0      1   \n",
              "879  Potter, Mrs. Thomas Jr (Lily Alexenia Wilson)  female  56.0      0   \n",
              "\n",
              "     Parch  Ticket     Fare Cabin Embarked  \n",
              "3        0  113803  53.1000  C123        S  \n",
              "117      0   11668  21.0000   NaN        S  \n",
              "879      1   11767  83.1583   C50        C  "
            ]
          },
          "execution_count": 23,
          "metadata": {},
          "output_type": "execute_result"
        }
      ],
      "source": [
        "# loading and previewing the train dataset\n",
        "train = pd.read_csv('https://bit.ly/31azYjb')\n",
        "train.sample(3)"
      ]
    },
    {
      "cell_type": "code",
      "execution_count": 24,
      "metadata": {
        "id": "LWR4FufRa5lN"
      },
      "outputs": [
        {
          "data": {
            "text/html": [
              "<div>\n",
              "<style scoped>\n",
              "    .dataframe tbody tr th:only-of-type {\n",
              "        vertical-align: middle;\n",
              "    }\n",
              "\n",
              "    .dataframe tbody tr th {\n",
              "        vertical-align: top;\n",
              "    }\n",
              "\n",
              "    .dataframe thead th {\n",
              "        text-align: right;\n",
              "    }\n",
              "</style>\n",
              "<table border=\"1\" class=\"dataframe\">\n",
              "  <thead>\n",
              "    <tr style=\"text-align: right;\">\n",
              "      <th></th>\n",
              "      <th>PassengerId</th>\n",
              "      <th>Pclass</th>\n",
              "      <th>Name</th>\n",
              "      <th>Sex</th>\n",
              "      <th>Age</th>\n",
              "      <th>SibSp</th>\n",
              "      <th>Parch</th>\n",
              "      <th>Ticket</th>\n",
              "      <th>Fare</th>\n",
              "      <th>Cabin</th>\n",
              "      <th>Embarked</th>\n",
              "    </tr>\n",
              "  </thead>\n",
              "  <tbody>\n",
              "    <tr>\n",
              "      <th>164</th>\n",
              "      <td>1056</td>\n",
              "      <td>2</td>\n",
              "      <td>Peruschitz, Rev. Joseph Maria</td>\n",
              "      <td>male</td>\n",
              "      <td>41.0</td>\n",
              "      <td>0</td>\n",
              "      <td>0</td>\n",
              "      <td>237393</td>\n",
              "      <td>13.0000</td>\n",
              "      <td>NaN</td>\n",
              "      <td>S</td>\n",
              "    </tr>\n",
              "    <tr>\n",
              "      <th>295</th>\n",
              "      <td>1187</td>\n",
              "      <td>3</td>\n",
              "      <td>Angheloff, Mr. Minko</td>\n",
              "      <td>male</td>\n",
              "      <td>26.0</td>\n",
              "      <td>0</td>\n",
              "      <td>0</td>\n",
              "      <td>349202</td>\n",
              "      <td>7.8958</td>\n",
              "      <td>NaN</td>\n",
              "      <td>S</td>\n",
              "    </tr>\n",
              "    <tr>\n",
              "      <th>385</th>\n",
              "      <td>1277</td>\n",
              "      <td>2</td>\n",
              "      <td>Herman, Miss. Kate</td>\n",
              "      <td>female</td>\n",
              "      <td>24.0</td>\n",
              "      <td>1</td>\n",
              "      <td>2</td>\n",
              "      <td>220845</td>\n",
              "      <td>65.0000</td>\n",
              "      <td>NaN</td>\n",
              "      <td>S</td>\n",
              "    </tr>\n",
              "  </tbody>\n",
              "</table>\n",
              "</div>"
            ],
            "text/plain": [
              "     PassengerId  Pclass                           Name     Sex   Age  SibSp  \\\n",
              "164         1056       2  Peruschitz, Rev. Joseph Maria    male  41.0      0   \n",
              "295         1187       3           Angheloff, Mr. Minko    male  26.0      0   \n",
              "385         1277       2             Herman, Miss. Kate  female  24.0      1   \n",
              "\n",
              "     Parch  Ticket     Fare Cabin Embarked  \n",
              "164      0  237393  13.0000   NaN        S  \n",
              "295      0  349202   7.8958   NaN        S  \n",
              "385      2  220845  65.0000   NaN        S  "
            ]
          },
          "execution_count": 24,
          "metadata": {},
          "output_type": "execute_result"
        }
      ],
      "source": [
        "# loading and previewing the test dataset\n",
        "test = pd.read_csv('https://bit.ly/2XmmAYe ')\n",
        "test.sample(3)"
      ]
    },
    {
      "cell_type": "code",
      "execution_count": 25,
      "metadata": {
        "id": "qfw5unuNa5lR"
      },
      "outputs": [
        {
          "name": "stdout",
          "output_type": "stream",
          "text": [
            "Train shape: (891, 12)\n",
            "Test shape: (418, 11)\n"
          ]
        }
      ],
      "source": [
        "# checking the datasets' shapes\n",
        "print(\"Train shape:\", train.shape)\n",
        "print(\"Test shape:\", test.shape)"
      ]
    },
    {
      "cell_type": "code",
      "execution_count": 26,
      "metadata": {
        "id": "OhO7GKP9a5lV"
      },
      "outputs": [
        {
          "data": {
            "text/plain": [
              "PassengerId      int64\n",
              "Survived         int64\n",
              "Pclass           int64\n",
              "Name            object\n",
              "Sex             object\n",
              "Age            float64\n",
              "SibSp            int64\n",
              "Parch            int64\n",
              "Ticket          object\n",
              "Fare           float64\n",
              "Cabin           object\n",
              "Embarked        object\n",
              "dtype: object"
            ]
          },
          "execution_count": 26,
          "metadata": {},
          "output_type": "execute_result"
        }
      ],
      "source": [
        "# checking data types of Train\n",
        "train.dtypes"
      ]
    },
    {
      "cell_type": "code",
      "execution_count": 27,
      "metadata": {
        "id": "XGArQiVHa5lY"
      },
      "outputs": [
        {
          "data": {
            "text/plain": [
              "PassengerId      int64\n",
              "Pclass           int64\n",
              "Name            object\n",
              "Sex             object\n",
              "Age            float64\n",
              "SibSp            int64\n",
              "Parch            int64\n",
              "Ticket          object\n",
              "Fare           float64\n",
              "Cabin           object\n",
              "Embarked        object\n",
              "dtype: object"
            ]
          },
          "execution_count": 27,
          "metadata": {},
          "output_type": "execute_result"
        }
      ],
      "source": [
        "# checking data types of Test\n",
        "test.dtypes"
      ]
    },
    {
      "cell_type": "code",
      "execution_count": 28,
      "metadata": {
        "id": "KQ2s5mZHa5ld"
      },
      "outputs": [
        {
          "name": "stdout",
          "output_type": "stream",
          "text": [
            "Train shape: (891, 12)\n",
            "Test shape: (418, 11)\n"
          ]
        }
      ],
      "source": [
        "# dropping duplicates, if any\n",
        "train.drop_duplicates(inplace = True)\n",
        "test.drop_duplicates(inplace = True)\n",
        "\n",
        "print(\"Train shape:\", train.shape)\n",
        "print(\"Test shape:\", test.shape)"
      ]
    },
    {
      "cell_type": "code",
      "execution_count": 29,
      "metadata": {
        "id": "mANr9p6Pa5ll"
      },
      "outputs": [
        {
          "data": {
            "text/plain": [
              "PassengerId      0\n",
              "Survived         0\n",
              "Pclass           0\n",
              "Name             0\n",
              "Sex              0\n",
              "Age            177\n",
              "SibSp            0\n",
              "Parch            0\n",
              "Ticket           0\n",
              "Fare             0\n",
              "Cabin          687\n",
              "Embarked         2\n",
              "dtype: int64"
            ]
          },
          "execution_count": 29,
          "metadata": {},
          "output_type": "execute_result"
        }
      ],
      "source": [
        "# checking for missing data in Train\n",
        "train.isna().sum()"
      ]
    },
    {
      "cell_type": "code",
      "execution_count": 30,
      "metadata": {
        "id": "newTgtEba5lo"
      },
      "outputs": [
        {
          "data": {
            "text/plain": [
              "PassengerId    0\n",
              "Survived       0\n",
              "Pclass         0\n",
              "Name           0\n",
              "Sex            0\n",
              "Age            0\n",
              "SibSp          0\n",
              "Parch          0\n",
              "Ticket         0\n",
              "Fare           0\n",
              "Embarked       0\n",
              "dtype: int64"
            ]
          },
          "execution_count": 30,
          "metadata": {},
          "output_type": "execute_result"
        }
      ],
      "source": [
        "# replacing missing 'Age' values with column mean and 'Embarked' with mode\n",
        "train['Age'].fillna(train['Age'].mean(), inplace = True)\n",
        "train['Embarked'].fillna(train['Embarked'].mode()[0], inplace = True)\n",
        "\n",
        "# dropping 'Cabin' since it has too many missing values to impute\n",
        "train.drop(columns = ['Cabin'], inplace = True)\n",
        "\n",
        "# confirming we don't have any missing values\n",
        "train.isna().sum()"
      ]
    },
    {
      "cell_type": "code",
      "execution_count": 31,
      "metadata": {
        "id": "uWmaJf8ia5lr"
      },
      "outputs": [
        {
          "data": {
            "text/plain": [
              "PassengerId      0\n",
              "Pclass           0\n",
              "Name             0\n",
              "Sex              0\n",
              "Age             86\n",
              "SibSp            0\n",
              "Parch            0\n",
              "Ticket           0\n",
              "Fare             1\n",
              "Cabin          327\n",
              "Embarked         0\n",
              "dtype: int64"
            ]
          },
          "execution_count": 31,
          "metadata": {},
          "output_type": "execute_result"
        }
      ],
      "source": [
        "# checking for missing data in Test\n",
        "test.isna().sum()"
      ]
    },
    {
      "cell_type": "code",
      "execution_count": 32,
      "metadata": {
        "id": "n9tJ9Ttva5lu"
      },
      "outputs": [
        {
          "data": {
            "text/plain": [
              "PassengerId    0\n",
              "Pclass         0\n",
              "Name           0\n",
              "Sex            0\n",
              "Age            0\n",
              "SibSp          0\n",
              "Parch          0\n",
              "Ticket         0\n",
              "Fare           0\n",
              "Embarked       0\n",
              "dtype: int64"
            ]
          },
          "execution_count": 32,
          "metadata": {},
          "output_type": "execute_result"
        }
      ],
      "source": [
        "# repacing missing 'Age' and 'Fare' values with their respective mean\n",
        "test['Age'].fillna(test['Age'].mean(), inplace = True)\n",
        "test['Fare'].fillna(test['Fare'].mean(), inplace = True)\n",
        "\n",
        "# dropping 'Cabin' since it has too many missing values to impute\n",
        "test.drop(columns = ['Cabin'], inplace = True)\n",
        "\n",
        "# confirming we don't have any missing values\n",
        "test.isna().sum()"
      ]
    },
    {
      "cell_type": "code",
      "execution_count": 33,
      "metadata": {
        "id": "M2nrJe8ka5lx"
      },
      "outputs": [
        {
          "data": {
            "image/png": "[encoded data removed]",
            "text/plain": [
              "<Figure size 720x432 with 1 Axes>"
            ]
          },
          "metadata": {
            "needs_background": "light"
          },
          "output_type": "display_data"
        }
      ],
      "source": [
        "# visualizing the distribution of outliers - Train\n",
        "plt.figure(figsize = (10, 6))\n",
        "train.boxplot()\n",
        "plt.show()"
      ]
    },
    {
      "cell_type": "code",
      "execution_count": 34,
      "metadata": {
        "id": "HIzFSRdBa5l0"
      },
      "outputs": [
        {
          "data": {
            "image/png": "[encoded data removed]",
            "text/plain": [
              "<Figure size 720x432 with 1 Axes>"
            ]
          },
          "metadata": {
            "needs_background": "light"
          },
          "output_type": "display_data"
        }
      ],
      "source": [
        "# visualizing the distribution of outliers - Test\n",
        "plt.figure(figsize = (10, 6))\n",
        "test.boxplot()\n",
        "plt.show()"
      ]
    },
    {
      "cell_type": "markdown",
      "metadata": {
        "id": "DL2RLR4xa5l6"
      },
      "source": [
        "# <font color='#2F4F4F'>3. Data Analysis</font>"
      ]
    },
    {
      "cell_type": "markdown",
      "metadata": {
        "id": "XdjsRfTpa5l7"
      },
      "source": [
        "## 3.1 Feature Engineering"
      ]
    },
    {
      "cell_type": "markdown",
      "metadata": {
        "id": "oU3RLshWa5l8"
      },
      "source": [
        "### 3.1.1 Getting the Title"
      ]
    },
    {
      "cell_type": "code",
      "execution_count": 35,
      "metadata": {
        "id": "_t1Zp3QWa5l8"
      },
      "outputs": [
        {
          "data": {
            "text/html": [
              "<div>\n",
              "<style scoped>\n",
              "    .dataframe tbody tr th:only-of-type {\n",
              "        vertical-align: middle;\n",
              "    }\n",
              "\n",
              "    .dataframe tbody tr th {\n",
              "        vertical-align: top;\n",
              "    }\n",
              "\n",
              "    .dataframe thead th {\n",
              "        text-align: right;\n",
              "    }\n",
              "</style>\n",
              "<table border=\"1\" class=\"dataframe\">\n",
              "  <thead>\n",
              "    <tr style=\"text-align: right;\">\n",
              "      <th></th>\n",
              "      <th>PassengerId</th>\n",
              "      <th>Survived</th>\n",
              "      <th>Pclass</th>\n",
              "      <th>Sex</th>\n",
              "      <th>Age</th>\n",
              "      <th>SibSp</th>\n",
              "      <th>Parch</th>\n",
              "      <th>Ticket</th>\n",
              "      <th>Fare</th>\n",
              "      <th>Embarked</th>\n",
              "      <th>Title</th>\n",
              "    </tr>\n",
              "  </thead>\n",
              "  <tbody>\n",
              "    <tr>\n",
              "      <th>72</th>\n",
              "      <td>73</td>\n",
              "      <td>0</td>\n",
              "      <td>2</td>\n",
              "      <td>male</td>\n",
              "      <td>21.0</td>\n",
              "      <td>0</td>\n",
              "      <td>0</td>\n",
              "      <td>S.O.C. 14879</td>\n",
              "      <td>73.5000</td>\n",
              "      <td>S</td>\n",
              "      <td>Mr</td>\n",
              "    </tr>\n",
              "    <tr>\n",
              "      <th>543</th>\n",
              "      <td>544</td>\n",
              "      <td>1</td>\n",
              "      <td>2</td>\n",
              "      <td>male</td>\n",
              "      <td>32.0</td>\n",
              "      <td>1</td>\n",
              "      <td>0</td>\n",
              "      <td>2908</td>\n",
              "      <td>26.0000</td>\n",
              "      <td>S</td>\n",
              "      <td>Mr</td>\n",
              "    </tr>\n",
              "    <tr>\n",
              "      <th>877</th>\n",
              "      <td>878</td>\n",
              "      <td>0</td>\n",
              "      <td>3</td>\n",
              "      <td>male</td>\n",
              "      <td>19.0</td>\n",
              "      <td>0</td>\n",
              "      <td>0</td>\n",
              "      <td>349212</td>\n",
              "      <td>7.8958</td>\n",
              "      <td>S</td>\n",
              "      <td>Mr</td>\n",
              "    </tr>\n",
              "  </tbody>\n",
              "</table>\n",
              "</div>"
            ],
            "text/plain": [
              "     PassengerId  Survived  Pclass   Sex   Age  SibSp  Parch        Ticket  \\\n",
              "72            73         0       2  male  21.0      0      0  S.O.C. 14879   \n",
              "543          544         1       2  male  32.0      1      0          2908   \n",
              "877          878         0       3  male  19.0      0      0        349212   \n",
              "\n",
              "        Fare Embarked Title  \n",
              "72   73.5000        S    Mr  \n",
              "543  26.0000        S    Mr  \n",
              "877   7.8958        S    Mr  "
            ]
          },
          "execution_count": 35,
          "metadata": {},
          "output_type": "execute_result"
        }
      ],
      "source": [
        "# Train\n",
        "# extracting the title from the name\n",
        "train['Title'] = train['Name'].str.extract('([A-Za-z]+)\\.')\n",
        "\n",
        "# dropping 'Name'\n",
        "train.drop(columns = ['Name'], inplace = True)\n",
        "\n",
        "# previewing the changes\n",
        "train.sample(3)"
      ]
    },
    {
      "cell_type": "code",
      "execution_count": 36,
      "metadata": {
        "id": "4MXMCit4a5l_"
      },
      "outputs": [
        {
          "data": {
            "text/html": [
              "<div>\n",
              "<style scoped>\n",
              "    .dataframe tbody tr th:only-of-type {\n",
              "        vertical-align: middle;\n",
              "    }\n",
              "\n",
              "    .dataframe tbody tr th {\n",
              "        vertical-align: top;\n",
              "    }\n",
              "\n",
              "    .dataframe thead th {\n",
              "        text-align: right;\n",
              "    }\n",
              "</style>\n",
              "<table border=\"1\" class=\"dataframe\">\n",
              "  <thead>\n",
              "    <tr style=\"text-align: right;\">\n",
              "      <th></th>\n",
              "      <th>PassengerId</th>\n",
              "      <th>Pclass</th>\n",
              "      <th>Sex</th>\n",
              "      <th>Age</th>\n",
              "      <th>SibSp</th>\n",
              "      <th>Parch</th>\n",
              "      <th>Ticket</th>\n",
              "      <th>Fare</th>\n",
              "      <th>Embarked</th>\n",
              "      <th>Title</th>\n",
              "    </tr>\n",
              "  </thead>\n",
              "  <tbody>\n",
              "    <tr>\n",
              "      <th>207</th>\n",
              "      <td>1099</td>\n",
              "      <td>2</td>\n",
              "      <td>male</td>\n",
              "      <td>24.0</td>\n",
              "      <td>0</td>\n",
              "      <td>0</td>\n",
              "      <td>28034</td>\n",
              "      <td>10.500</td>\n",
              "      <td>S</td>\n",
              "      <td>Mr</td>\n",
              "    </tr>\n",
              "    <tr>\n",
              "      <th>214</th>\n",
              "      <td>1106</td>\n",
              "      <td>3</td>\n",
              "      <td>female</td>\n",
              "      <td>38.0</td>\n",
              "      <td>4</td>\n",
              "      <td>2</td>\n",
              "      <td>347091</td>\n",
              "      <td>7.775</td>\n",
              "      <td>S</td>\n",
              "      <td>Miss</td>\n",
              "    </tr>\n",
              "    <tr>\n",
              "      <th>27</th>\n",
              "      <td>919</td>\n",
              "      <td>3</td>\n",
              "      <td>male</td>\n",
              "      <td>22.5</td>\n",
              "      <td>0</td>\n",
              "      <td>0</td>\n",
              "      <td>2698</td>\n",
              "      <td>7.225</td>\n",
              "      <td>C</td>\n",
              "      <td>Mr</td>\n",
              "    </tr>\n",
              "  </tbody>\n",
              "</table>\n",
              "</div>"
            ],
            "text/plain": [
              "     PassengerId  Pclass     Sex   Age  SibSp  Parch  Ticket    Fare Embarked  \\\n",
              "207         1099       2    male  24.0      0      0   28034  10.500        S   \n",
              "214         1106       3  female  38.0      4      2  347091   7.775        S   \n",
              "27           919       3    male  22.5      0      0    2698   7.225        C   \n",
              "\n",
              "    Title  \n",
              "207    Mr  \n",
              "214  Miss  \n",
              "27     Mr  "
            ]
          },
          "execution_count": 36,
          "metadata": {},
          "output_type": "execute_result"
        }
      ],
      "source": [
        "# Test\n",
        "# extracting the title from the name\n",
        "test['Title'] = test['Name'].str.extract('([A-Za-z]+)\\.')\n",
        "\n",
        "# dropping 'Name'\n",
        "test.drop(columns = ['Name'], inplace = True)\n",
        "\n",
        "# previewing the changes\n",
        "test.sample(3)"
      ]
    },
    {
      "cell_type": "markdown",
      "metadata": {
        "id": "78617344a5mC"
      },
      "source": [
        "### 3.1.2 Getting the Family Size"
      ]
    },
    {
      "cell_type": "code",
      "execution_count": 37,
      "metadata": {
        "id": "Jud7e3hua5mD"
      },
      "outputs": [
        {
          "data": {
            "text/html": [
              "<div>\n",
              "<style scoped>\n",
              "    .dataframe tbody tr th:only-of-type {\n",
              "        vertical-align: middle;\n",
              "    }\n",
              "\n",
              "    .dataframe tbody tr th {\n",
              "        vertical-align: top;\n",
              "    }\n",
              "\n",
              "    .dataframe thead th {\n",
              "        text-align: right;\n",
              "    }\n",
              "</style>\n",
              "<table border=\"1\" class=\"dataframe\">\n",
              "  <thead>\n",
              "    <tr style=\"text-align: right;\">\n",
              "      <th></th>\n",
              "      <th>PassengerId</th>\n",
              "      <th>Survived</th>\n",
              "      <th>Pclass</th>\n",
              "      <th>Sex</th>\n",
              "      <th>Age</th>\n",
              "      <th>SibSp</th>\n",
              "      <th>Parch</th>\n",
              "      <th>Ticket</th>\n",
              "      <th>Fare</th>\n",
              "      <th>Embarked</th>\n",
              "      <th>Title</th>\n",
              "      <th>FamilySize</th>\n",
              "    </tr>\n",
              "  </thead>\n",
              "  <tbody>\n",
              "    <tr>\n",
              "      <th>0</th>\n",
              "      <td>1</td>\n",
              "      <td>0</td>\n",
              "      <td>3</td>\n",
              "      <td>male</td>\n",
              "      <td>22.0</td>\n",
              "      <td>1</td>\n",
              "      <td>0</td>\n",
              "      <td>A/5 21171</td>\n",
              "      <td>7.2500</td>\n",
              "      <td>S</td>\n",
              "      <td>Mr</td>\n",
              "      <td>2</td>\n",
              "    </tr>\n",
              "    <tr>\n",
              "      <th>1</th>\n",
              "      <td>2</td>\n",
              "      <td>1</td>\n",
              "      <td>1</td>\n",
              "      <td>female</td>\n",
              "      <td>38.0</td>\n",
              "      <td>1</td>\n",
              "      <td>0</td>\n",
              "      <td>PC 17599</td>\n",
              "      <td>71.2833</td>\n",
              "      <td>C</td>\n",
              "      <td>Mrs</td>\n",
              "      <td>2</td>\n",
              "    </tr>\n",
              "    <tr>\n",
              "      <th>2</th>\n",
              "      <td>3</td>\n",
              "      <td>1</td>\n",
              "      <td>3</td>\n",
              "      <td>female</td>\n",
              "      <td>26.0</td>\n",
              "      <td>0</td>\n",
              "      <td>0</td>\n",
              "      <td>STON/O2. 3101282</td>\n",
              "      <td>7.9250</td>\n",
              "      <td>S</td>\n",
              "      <td>Miss</td>\n",
              "      <td>1</td>\n",
              "    </tr>\n",
              "  </tbody>\n",
              "</table>\n",
              "</div>"
            ],
            "text/plain": [
              "   PassengerId  Survived  Pclass     Sex   Age  SibSp  Parch  \\\n",
              "0            1         0       3    male  22.0      1      0   \n",
              "1            2         1       1  female  38.0      1      0   \n",
              "2            3         1       3  female  26.0      0      0   \n",
              "\n",
              "             Ticket     Fare Embarked Title  FamilySize  \n",
              "0         A/5 21171   7.2500        S    Mr           2  \n",
              "1          PC 17599  71.2833        C   Mrs           2  \n",
              "2  STON/O2. 3101282   7.9250        S  Miss           1  "
            ]
          },
          "execution_count": 37,
          "metadata": {},
          "output_type": "execute_result"
        }
      ],
      "source": [
        "# Train\n",
        "# add new column 'FamilySize' which consists of SibSp plus Parch plus 1 (the passenger himself/herself)\n",
        "\n",
        "# Train\n",
        "# add new column 'FamilySize' which consists of SibSp plus Parch plus 1 (the passenger himself/herself)\n",
        "\n",
        "train['FamilySize'] = train['SibSp'] + train['Parch'] + 1\n",
        "\n",
        "train.head(3)"
      ]
    },
    {
      "cell_type": "code",
      "execution_count": 38,
      "metadata": {
        "id": "WX0zjKXHa5mF"
      },
      "outputs": [
        {
          "data": {
            "text/html": [
              "<div>\n",
              "<style scoped>\n",
              "    .dataframe tbody tr th:only-of-type {\n",
              "        vertical-align: middle;\n",
              "    }\n",
              "\n",
              "    .dataframe tbody tr th {\n",
              "        vertical-align: top;\n",
              "    }\n",
              "\n",
              "    .dataframe thead th {\n",
              "        text-align: right;\n",
              "    }\n",
              "</style>\n",
              "<table border=\"1\" class=\"dataframe\">\n",
              "  <thead>\n",
              "    <tr style=\"text-align: right;\">\n",
              "      <th></th>\n",
              "      <th>PassengerId</th>\n",
              "      <th>Pclass</th>\n",
              "      <th>Sex</th>\n",
              "      <th>Age</th>\n",
              "      <th>SibSp</th>\n",
              "      <th>Parch</th>\n",
              "      <th>Ticket</th>\n",
              "      <th>Fare</th>\n",
              "      <th>Embarked</th>\n",
              "      <th>Title</th>\n",
              "      <th>FamilySize</th>\n",
              "    </tr>\n",
              "  </thead>\n",
              "  <tbody>\n",
              "    <tr>\n",
              "      <th>0</th>\n",
              "      <td>892</td>\n",
              "      <td>3</td>\n",
              "      <td>male</td>\n",
              "      <td>34.5</td>\n",
              "      <td>0</td>\n",
              "      <td>0</td>\n",
              "      <td>330911</td>\n",
              "      <td>7.8292</td>\n",
              "      <td>Q</td>\n",
              "      <td>Mr</td>\n",
              "      <td>1</td>\n",
              "    </tr>\n",
              "    <tr>\n",
              "      <th>1</th>\n",
              "      <td>893</td>\n",
              "      <td>3</td>\n",
              "      <td>female</td>\n",
              "      <td>47.0</td>\n",
              "      <td>1</td>\n",
              "      <td>0</td>\n",
              "      <td>363272</td>\n",
              "      <td>7.0000</td>\n",
              "      <td>S</td>\n",
              "      <td>Mrs</td>\n",
              "      <td>2</td>\n",
              "    </tr>\n",
              "    <tr>\n",
              "      <th>2</th>\n",
              "      <td>894</td>\n",
              "      <td>2</td>\n",
              "      <td>male</td>\n",
              "      <td>62.0</td>\n",
              "      <td>0</td>\n",
              "      <td>0</td>\n",
              "      <td>240276</td>\n",
              "      <td>9.6875</td>\n",
              "      <td>Q</td>\n",
              "      <td>Mr</td>\n",
              "      <td>1</td>\n",
              "    </tr>\n",
              "  </tbody>\n",
              "</table>\n",
              "</div>"
            ],
            "text/plain": [
              "   PassengerId  Pclass     Sex   Age  SibSp  Parch  Ticket    Fare Embarked  \\\n",
              "0          892       3    male  34.5      0      0  330911  7.8292        Q   \n",
              "1          893       3  female  47.0      1      0  363272  7.0000        S   \n",
              "2          894       2    male  62.0      0      0  240276  9.6875        Q   \n",
              "\n",
              "  Title  FamilySize  \n",
              "0    Mr           1  \n",
              "1   Mrs           2  \n",
              "2    Mr           1  "
            ]
          },
          "execution_count": 38,
          "metadata": {},
          "output_type": "execute_result"
        }
      ],
      "source": [
        "# Test\n",
        "# add new column 'FamilySize' which consists of SibSp plus Parch plus 1 (the passenger himself/herself)\n",
        "\n",
        "test['FamilySize'] = test['SibSp'] + test['Parch'] + 1\n",
        "test.head(3)"
      ]
    },
    {
      "cell_type": "markdown",
      "metadata": {
        "id": "k0Ub2aHha5mI"
      },
      "source": [
        "### 3.1.3 Getting the Fare per Person"
      ]
    },
    {
      "cell_type": "code",
      "execution_count": 39,
      "metadata": {
        "id": "1S71t2N1a5mI"
      },
      "outputs": [
        {
          "data": {
            "text/html": [
              "<div>\n",
              "<style scoped>\n",
              "    .dataframe tbody tr th:only-of-type {\n",
              "        vertical-align: middle;\n",
              "    }\n",
              "\n",
              "    .dataframe tbody tr th {\n",
              "        vertical-align: top;\n",
              "    }\n",
              "\n",
              "    .dataframe thead th {\n",
              "        text-align: right;\n",
              "    }\n",
              "</style>\n",
              "<table border=\"1\" class=\"dataframe\">\n",
              "  <thead>\n",
              "    <tr style=\"text-align: right;\">\n",
              "      <th></th>\n",
              "      <th>PassengerId</th>\n",
              "      <th>Survived</th>\n",
              "      <th>Pclass</th>\n",
              "      <th>Sex</th>\n",
              "      <th>Age</th>\n",
              "      <th>SibSp</th>\n",
              "      <th>Parch</th>\n",
              "      <th>Ticket</th>\n",
              "      <th>Fare</th>\n",
              "      <th>Embarked</th>\n",
              "      <th>Title</th>\n",
              "      <th>FamilySize</th>\n",
              "      <th>FarePerPerson</th>\n",
              "    </tr>\n",
              "  </thead>\n",
              "  <tbody>\n",
              "    <tr>\n",
              "      <th>662</th>\n",
              "      <td>663</td>\n",
              "      <td>0</td>\n",
              "      <td>1</td>\n",
              "      <td>male</td>\n",
              "      <td>47.0</td>\n",
              "      <td>0</td>\n",
              "      <td>0</td>\n",
              "      <td>5727</td>\n",
              "      <td>25.5875</td>\n",
              "      <td>S</td>\n",
              "      <td>Mr</td>\n",
              "      <td>1</td>\n",
              "      <td>25.58750</td>\n",
              "    </tr>\n",
              "    <tr>\n",
              "      <th>591</th>\n",
              "      <td>592</td>\n",
              "      <td>1</td>\n",
              "      <td>1</td>\n",
              "      <td>female</td>\n",
              "      <td>52.0</td>\n",
              "      <td>1</td>\n",
              "      <td>0</td>\n",
              "      <td>36947</td>\n",
              "      <td>78.2667</td>\n",
              "      <td>C</td>\n",
              "      <td>Mrs</td>\n",
              "      <td>2</td>\n",
              "      <td>39.13335</td>\n",
              "    </tr>\n",
              "    <tr>\n",
              "      <th>699</th>\n",
              "      <td>700</td>\n",
              "      <td>0</td>\n",
              "      <td>3</td>\n",
              "      <td>male</td>\n",
              "      <td>42.0</td>\n",
              "      <td>0</td>\n",
              "      <td>0</td>\n",
              "      <td>348121</td>\n",
              "      <td>7.6500</td>\n",
              "      <td>S</td>\n",
              "      <td>Mr</td>\n",
              "      <td>1</td>\n",
              "      <td>7.65000</td>\n",
              "    </tr>\n",
              "  </tbody>\n",
              "</table>\n",
              "</div>"
            ],
            "text/plain": [
              "     PassengerId  Survived  Pclass     Sex   Age  SibSp  Parch  Ticket  \\\n",
              "662          663         0       1    male  47.0      0      0    5727   \n",
              "591          592         1       1  female  52.0      1      0   36947   \n",
              "699          700         0       3    male  42.0      0      0  348121   \n",
              "\n",
              "        Fare Embarked Title  FamilySize  FarePerPerson  \n",
              "662  25.5875        S    Mr           1       25.58750  \n",
              "591  78.2667        C   Mrs           2       39.13335  \n",
              "699   7.6500        S    Mr           1        7.65000  "
            ]
          },
          "execution_count": 39,
          "metadata": {},
          "output_type": "execute_result"
        }
      ],
      "source": [
        "# Train\n",
        "# create new variable 'FarePerPerson' which is Fare / FamilySize\n",
        "\n",
        "train['FarePerPerson'] = train['Fare'] / train['FamilySize']\n",
        "train.sample(3)"
      ]
    },
    {
      "cell_type": "code",
      "execution_count": 40,
      "metadata": {
        "id": "GSxJ9U3Da5mL"
      },
      "outputs": [],
      "source": [
        "# Test\n",
        "# create new variable 'FarePerPerson' which is Fare / FamilySize\n",
        "\n",
        "test['FarePerPerson'] = test['Fare'] / test['FamilySize']"
      ]
    },
    {
      "cell_type": "code",
      "execution_count": 41,
      "metadata": {
        "id": "NF6p7NV2a5mQ"
      },
      "outputs": [
        {
          "name": "stdout",
          "output_type": "stream",
          "text": [
            "Train shape: (787, 11)\n",
            "Test shape: (383, 10)\n"
          ]
        }
      ],
      "source": [
        "# dropping unneeded columns 'PassengerId' and 'Ticket'\n",
        "train.drop(columns = ['PassengerId', 'Ticket'], inplace = True)\n",
        "test.drop(columns = ['PassengerId', 'Ticket'], inplace = True)\n",
        "\n",
        "# dropping duplicates\n",
        "train.drop_duplicates(inplace = True)\n",
        "test.drop_duplicates(inplace = True)\n",
        "\n",
        "# preview the datasets' shapes\n",
        "print(\"Train shape:\", train.shape)\n",
        "print(\"Test shape:\", test.shape)"
      ]
    },
    {
      "cell_type": "code",
      "execution_count": 42,
      "metadata": {
        "id": "l_vlsXPza5mT"
      },
      "outputs": [],
      "source": [
        "# saving to clean CSV files\n",
        "train.to_csv('train_clean.csv', index = False)\n",
        "test.to_csv('test_clean.csv', index = False)"
      ]
    },
    {
      "cell_type": "markdown",
      "metadata": {
        "id": "5V1OYm-Da5mW"
      },
      "source": [
        "## 3.2 Univariate Analysis "
      ]
    },
    {
      "cell_type": "markdown",
      "metadata": {
        "id": "ekSWEkmla5mW"
      },
      "source": [
        "### 3.2.1 Train dataset"
      ]
    },
    {
      "cell_type": "code",
      "execution_count": 43,
      "metadata": {
        "id": "1wVoYHQda5mX"
      },
      "outputs": [
        {
          "data": {
            "image/png": "[encoded data removed]",
            "text/plain": [
              "<Figure size 288x288 with 1 Axes>"
            ]
          },
          "metadata": {},
          "output_type": "display_data"
        }
      ],
      "source": [
        "# distribution of those who survived vs those who didn't\n",
        "plt.figure(figsize = (4, 4))\n",
        "train.Survived.value_counts().plot(kind = 'pie', autopct = '%0.1f%%', labels = [\"No\", \"Yes\"])\n",
        "plt.show()"
      ]
    },
    {
      "cell_type": "markdown",
      "metadata": {
        "id": "YuszldTva5mb"
      },
      "source": [
        "A little over half of the passengers did not survive the sinking of the ship."
      ]
    },
    {
      "cell_type": "code",
      "execution_count": 44,
      "metadata": {
        "id": "yMQpz6eva5mb"
      },
      "outputs": [
        {
          "data": {
            "image/png": "[encoded data removed]",
            "text/plain": [
              "<Figure size 432x288 with 1 Axes>"
            ]
          },
          "metadata": {
            "needs_background": "light"
          },
          "output_type": "display_data"
        }
      ],
      "source": [
        "# distribution of gender\n",
        "plt.figure(figsize = (6, 4))\n",
        "train.Sex.value_counts().plot(kind = 'bar', rot = 0)\n",
        "plt.show()"
      ]
    },
    {
      "cell_type": "markdown",
      "metadata": {
        "id": "CSvX1oLwa5me"
      },
      "source": [
        "There are more male passengers than female passengers in this dataset."
      ]
    },
    {
      "cell_type": "code",
      "execution_count": 45,
      "metadata": {
        "id": "99W9Vv3xa5me"
      },
      "outputs": [
        {
          "data": {
            "image/png": "[encoded data removed]",
            "text/plain": [
              "<Figure size 288x288 with 1 Axes>"
            ]
          },
          "metadata": {},
          "output_type": "display_data"
        }
      ],
      "source": [
        "# distribution of class\n",
        "plt.figure(figsize = (4, 4))\n",
        "train.Pclass.value_counts().plot(kind = 'pie', autopct = '%0.1f%%')\n",
        "plt.show()"
      ]
    },
    {
      "cell_type": "markdown",
      "metadata": {
        "id": "GyoiOJXoa5mh"
      },
      "source": [
        "Majority of the passengers are in 3rd class followed by those in 1st class."
      ]
    },
    {
      "cell_type": "code",
      "execution_count": 46,
      "metadata": {
        "id": "N36t_bola5mh"
      },
      "outputs": [
        {
          "data": {
            "image/png": "[encoded data removed]",
            "text/plain": [
              "<Figure size 576x288 with 1 Axes>"
            ]
          },
          "metadata": {
            "needs_background": "light"
          },
          "output_type": "display_data"
        }
      ],
      "source": [
        "# distribution of age\n",
        "plt.figure(figsize = (8, 4))\n",
        "train.Age.hist()\n",
        "plt.show()"
      ]
    },
    {
      "cell_type": "markdown",
      "metadata": {
        "id": "vuXSsleqa5mu"
      },
      "source": [
        "Majority of the passengers are between 24-31 years. Minority are 55 and above."
      ]
    },
    {
      "cell_type": "code",
      "execution_count": 47,
      "metadata": {
        "id": "NyaD95wZa5mx"
      },
      "outputs": [
        {
          "data": {
            "image/png": "[encoded data removed]",
            "text/plain": [
              "<Figure size 576x288 with 1 Axes>"
            ]
          },
          "metadata": {
            "needs_background": "light"
          },
          "output_type": "display_data"
        }
      ],
      "source": [
        "# distribution of family size\n",
        "plt.figure(figsize = (8, 4))\n",
        "train.FamilySize.value_counts().plot(kind = 'bar', rot = 0)\n",
        "plt.show()"
      ]
    },
    {
      "cell_type": "markdown",
      "metadata": {
        "id": "kCoO2FHEa5m1"
      },
      "source": [
        "Majority of the passengers were travelling alone. The second and third biggest portion of the passengers had 1 and 2 other family members with them respectively."
      ]
    },
    {
      "cell_type": "code",
      "execution_count": 48,
      "metadata": {
        "id": "k6ohRm-2a5m3"
      },
      "outputs": [
        {
          "data": {
            "image/png": "[encoded data removed]",
            "text/plain": [
              "<Figure size 720x288 with 1 Axes>"
            ]
          },
          "metadata": {
            "needs_background": "light"
          },
          "output_type": "display_data"
        }
      ],
      "source": [
        "# distribution by title\n",
        "plt.figure(figsize = (10, 4))\n",
        "train.Title.value_counts().plot(kind = 'bar', rot = 0)\n",
        "plt.show()"
      ]
    },
    {
      "cell_type": "markdown",
      "metadata": {
        "id": "R1R4JvlNa5m9"
      },
      "source": [
        "Common titles such as 'Mr.', 'Mrs.', and 'Miss' made up the vast majority of the titles used."
      ]
    },
    {
      "cell_type": "code",
      "execution_count": 49,
      "metadata": {
        "id": "8kKV5zBHa5m-"
      },
      "outputs": [
        {
          "data": {
            "image/png": "[encoded data removed]",
            "text/plain": [
              "<Figure size 576x288 with 1 Axes>"
            ]
          },
          "metadata": {
            "needs_background": "light"
          },
          "output_type": "display_data"
        }
      ],
      "source": [
        "# distribution of 'Embarked'\n",
        "plt.figure(figsize = (8, 4))\n",
        "train.Embarked.value_counts().plot(kind = 'bar', rot = 0)\n",
        "plt.show()"
      ]
    },
    {
      "cell_type": "markdown",
      "metadata": {
        "id": "iSrpkSg_a5nF"
      },
      "source": [
        "Majority of the passengers embarked at point S."
      ]
    },
    {
      "cell_type": "code",
      "execution_count": 50,
      "metadata": {
        "id": "7uhOIX1xa5nG"
      },
      "outputs": [
        {
          "data": {
            "image/png": "[encoded data removed]",
            "text/plain": [
              "<Figure size 576x288 with 1 Axes>"
            ]
          },
          "metadata": {
            "needs_background": "light"
          },
          "output_type": "display_data"
        }
      ],
      "source": [
        "# distribution of fare\n",
        "plt.figure(figsize = (8, 4))\n",
        "train.Fare.hist()\n",
        "plt.show()"
      ]
    },
    {
      "cell_type": "markdown",
      "metadata": {
        "id": "479Eh1_Na5nK"
      },
      "source": [
        "Most of the fare prices are between 0-100."
      ]
    },
    {
      "cell_type": "markdown",
      "metadata": {
        "id": "C-SkoWz5a5nQ"
      },
      "source": [
        "### 3.2.2 Test dataset"
      ]
    },
    {
      "cell_type": "code",
      "execution_count": 51,
      "metadata": {
        "id": "hHeavRvEa5nT"
      },
      "outputs": [
        {
          "data": {
            "image/png": "[encoded data removed]",
            "text/plain": [
              "<Figure size 432x288 with 1 Axes>"
            ]
          },
          "metadata": {
            "needs_background": "light"
          },
          "output_type": "display_data"
        }
      ],
      "source": [
        "\n",
        "\n",
        "\n",
        "\n",
        "\n",
        "\n",
        "\n",
        "\n",
        "\n",
        "\n",
        "\n",
        "# distribution of gender\n",
        "plt.figure(figsize = (6, 4))\n",
        "test.Sex.value_counts().plot(kind = 'bar', rot = 0)\n",
        "plt.show()"
      ]
    },
    {
      "cell_type": "markdown",
      "metadata": {
        "id": "vghHY75sa5nW"
      },
      "source": [
        "There are more male passengers than female passengers in this dataset."
      ]
    },
    {
      "cell_type": "code",
      "execution_count": 52,
      "metadata": {
        "id": "eucxkzPka5nX"
      },
      "outputs": [
        {
          "data": {
            "image/png": "[encoded data removed]",
            "text/plain": [
              "<Figure size 288x288 with 1 Axes>"
            ]
          },
          "metadata": {},
          "output_type": "display_data"
        }
      ],
      "source": [
        "# distribution of class\n",
        "plt.figure(figsize = (4, 4))\n",
        "test.Pclass.value_counts().plot(kind = 'pie', autopct = '%0.1f%%')\n",
        "plt.show()"
      ]
    },
    {
      "cell_type": "markdown",
      "metadata": {
        "id": "XRc0HWjPa5nb"
      },
      "source": [
        "Majority of the passengers are in 3rd class followed by those in 1st class."
      ]
    },
    {
      "cell_type": "code",
      "execution_count": 53,
      "metadata": {
        "id": "EIjihah-a5nc"
      },
      "outputs": [
        {
          "data": {
            "image/png": "[encoded data removed]",
            "text/plain": [
              "<Figure size 576x288 with 1 Axes>"
            ]
          },
          "metadata": {
            "needs_background": "light"
          },
          "output_type": "display_data"
        }
      ],
      "source": [
        "# distribution of age\n",
        "plt.figure(figsize = (8, 4))\n",
        "test.Age.hist()\n",
        "plt.show()"
      ]
    },
    {
      "cell_type": "markdown",
      "metadata": {
        "id": "kHU3DbJCa5ng"
      },
      "source": [
        "Majority of the passengers are between 24-30 years. Minority are 69 and above."
      ]
    },
    {
      "cell_type": "code",
      "execution_count": 54,
      "metadata": {
        "id": "CScLPe-na5nk"
      },
      "outputs": [
        {
          "data": {
            "image/png": "[encoded data removed]",
            "text/plain": [
              "<Figure size 576x432 with 1 Axes>"
            ]
          },
          "metadata": {
            "needs_background": "light"
          },
          "output_type": "display_data"
        }
      ],
      "source": [
        "# distribution of family size\n",
        "plt.figure(figsize = (8, 6))\n",
        "test.FamilySize.value_counts().plot(kind = 'bar', rot = 0)\n",
        "plt.show()"
      ]
    },
    {
      "cell_type": "markdown",
      "metadata": {
        "id": "jCM646wsa5nv"
      },
      "source": [
        "Majority of the passengers were travelling alone. The second and third biggest portion of the passengers had 1 and 2 other family members with them respectively."
      ]
    },
    {
      "cell_type": "code",
      "execution_count": 55,
      "metadata": {
        "id": "lJIxngMAa5nw"
      },
      "outputs": [
        {
          "data": {
            "image/png": "[encoded data removed]",
            "text/plain": [
              "<Figure size 720x288 with 1 Axes>"
            ]
          },
          "metadata": {
            "needs_background": "light"
          },
          "output_type": "display_data"
        }
      ],
      "source": [
        "# distribution by title\n",
        "plt.figure(figsize = (10, 4))\n",
        "train.Title.value_counts().plot(kind = 'bar', rot = 0)\n",
        "plt.show()"
      ]
    },
    {
      "cell_type": "markdown",
      "metadata": {
        "id": "1Vwo51q7a5n2"
      },
      "source": [
        "Common titles such as 'Mr.', 'Mrs.', and 'Miss' made up the vast majority of the titles used."
      ]
    },
    {
      "cell_type": "code",
      "execution_count": 56,
      "metadata": {
        "id": "4EWvzyBba5n3"
      },
      "outputs": [
        {
          "data": {
            "image/png": "[encoded data removed]",
            "text/plain": [
              "<Figure size 576x288 with 1 Axes>"
            ]
          },
          "metadata": {
            "needs_background": "light"
          },
          "output_type": "display_data"
        }
      ],
      "source": [
        "# distribution of 'Embarked'\n",
        "plt.figure(figsize = (8, 4))\n",
        "test.Embarked.value_counts().plot(kind = 'bar', rot = 0)\n",
        "plt.show()"
      ]
    },
    {
      "cell_type": "markdown",
      "metadata": {
        "id": "Dh_HmTcta5oA"
      },
      "source": [
        "Majority of the passengers embarked at point S."
      ]
    },
    {
      "cell_type": "code",
      "execution_count": 57,
      "metadata": {
        "id": "fqx9bX-sa5oD"
      },
      "outputs": [
        {
          "data": {
            "image/png": "[encoded data removed]",
            "text/plain": [
              "<Figure size 576x288 with 1 Axes>"
            ]
          },
          "metadata": {
            "needs_background": "light"
          },
          "output_type": "display_data"
        }
      ],
      "source": [
        "# distribution of fare\n",
        "plt.figure(figsize = (8, 4))\n",
        "test.Fare.hist()\n",
        "plt.show()"
      ]
    },
    {
      "cell_type": "markdown",
      "metadata": {
        "id": "MJJdFe4fa5oH"
      },
      "source": [
        "Most of the prices are between 0-100."
      ]
    },
    {
      "cell_type": "markdown",
      "metadata": {
        "id": "qKVQyZswa5oI"
      },
      "source": [
        "## 3.3 Bivariate Analysis"
      ]
    },
    {
      "cell_type": "markdown",
      "metadata": {
        "id": "lng82JYua5oJ"
      },
      "source": [
        "We will look at how the other variables relate to the target variable ('Survived') in the Train dataset."
      ]
    },
    {
      "cell_type": "code",
      "execution_count": 58,
      "metadata": {
        "id": "T-m30dHra5oL"
      },
      "outputs": [
        {
          "name": "stderr",
          "output_type": "stream",
          "text": [
            "/usr/local/lib/python3.9/site-packages/seaborn/_decorators.py:36: FutureWarning: Pass the following variable as a keyword arg: x. From version 0.12, the only valid positional argument will be `data`, and passing other arguments without an explicit keyword will result in an error or misinterpretation.\n",
            "  warnings.warn(\n"
          ]
        },
        {
          "data": {
            "image/png": "[encoded data removed]",
            "text/plain": [
              "<Figure size 576x288 with 1 Axes>"
            ]
          },
          "metadata": {
            "needs_background": "light"
          },
          "output_type": "display_data"
        }
      ],
      "source": [
        "# distribution of Survived by class\n",
        "plt.figure(figsize = (8, 4))\n",
        "sns.countplot(train['Pclass'], hue = train['Survived'])\n",
        "plt.show()"
      ]
    },
    {
      "cell_type": "markdown",
      "metadata": {
        "id": "5qB7321Za5oQ"
      },
      "source": [
        "Majority of those who survived were in 1st class. Majority of those who died were in 3rd class."
      ]
    },
    {
      "cell_type": "code",
      "execution_count": 59,
      "metadata": {
        "id": "_GVl-CU1a5oR"
      },
      "outputs": [
        {
          "name": "stderr",
          "output_type": "stream",
          "text": [
            "/usr/local/lib/python3.9/site-packages/seaborn/_decorators.py:36: FutureWarning: Pass the following variable as a keyword arg: x. From version 0.12, the only valid positional argument will be `data`, and passing other arguments without an explicit keyword will result in an error or misinterpretation.\n",
            "  warnings.warn(\n"
          ]
        },
        {
          "data": {
            "image/png": "[encoded data removed]",
            "text/plain": [
              "<Figure size 576x288 with 1 Axes>"
            ]
          },
          "metadata": {
            "needs_background": "light"
          },
          "output_type": "display_data"
        }
      ],
      "source": [
        "# distribution of Survived by gender\n",
        "plt.figure(figsize = (8, 4))\n",
        "sns.countplot(train['Sex'], hue = train['Survived'])\n",
        "plt.show()"
      ]
    },
    {
      "cell_type": "markdown",
      "metadata": {
        "id": "wazWkS7na5ob"
      },
      "source": [
        "Majority of those who survived were female while majority of those who died were male."
      ]
    },
    {
      "cell_type": "code",
      "execution_count": 60,
      "metadata": {
        "id": "yNVK2GQaa5oc"
      },
      "outputs": [
        {
          "name": "stderr",
          "output_type": "stream",
          "text": [
            "/usr/local/lib/python3.9/site-packages/seaborn/_decorators.py:36: FutureWarning: Pass the following variable as a keyword arg: x. From version 0.12, the only valid positional argument will be `data`, and passing other arguments without an explicit keyword will result in an error or misinterpretation.\n",
            "  warnings.warn(\n"
          ]
        },
        {
          "data": {
            "image/png": "[encoded data removed]",
            "text/plain": [
              "<Figure size 1080x432 with 1 Axes>"
            ]
          },
          "metadata": {
            "needs_background": "light"
          },
          "output_type": "display_data"
        }
      ],
      "source": [
        "# distribution of Survived by title\n",
        "plt.figure(figsize = (15, 6))\n",
        "sns.countplot(train['Title'], hue = train['Survived'])\n",
        "plt.show()"
      ]
    },
    {
      "cell_type": "markdown",
      "metadata": {
        "id": "GWWCyLaVa5oh"
      },
      "source": [
        "Majority of those who survived were the women, including those with superior titles like Mme, Mlle, and Countess. Majority of those who died were men, including those with superior titles like Col, Capt, and Jonkheer."
      ]
    },
    {
      "cell_type": "code",
      "execution_count": 61,
      "metadata": {
        "id": "8aUwXG2Fa5oi"
      },
      "outputs": [
        {
          "name": "stderr",
          "output_type": "stream",
          "text": [
            "/usr/local/lib/python3.9/site-packages/seaborn/_decorators.py:36: FutureWarning: Pass the following variable as a keyword arg: x. From version 0.12, the only valid positional argument will be `data`, and passing other arguments without an explicit keyword will result in an error or misinterpretation.\n",
            "  warnings.warn(\n"
          ]
        },
        {
          "data": {
            "image/png": "[encoded data removed]",
            "text/plain": [
              "<Figure size 576x288 with 1 Axes>"
            ]
          },
          "metadata": {
            "needs_background": "light"
          },
          "output_type": "display_data"
        }
      ],
      "source": [
        "# distribution of Survived by point of embarkment\n",
        "plt.figure(figsize = (8, 4))\n",
        "sns.countplot(train['Embarked'], hue = train['Survived'])\n",
        "plt.show()"
      ]
    },
    {
      "cell_type": "markdown",
      "metadata": {
        "id": "mb2PlbuDa5os"
      },
      "source": [
        "Those who embarked at point S survived and died more than their counterparts who embarked at points C and Q."
      ]
    },
    {
      "cell_type": "code",
      "execution_count": 62,
      "metadata": {
        "id": "9kOqCaeua5os"
      },
      "outputs": [
        {
          "name": "stderr",
          "output_type": "stream",
          "text": [
            "/usr/local/lib/python3.9/site-packages/seaborn/_decorators.py:36: FutureWarning: Pass the following variable as a keyword arg: x. From version 0.12, the only valid positional argument will be `data`, and passing other arguments without an explicit keyword will result in an error or misinterpretation.\n",
            "  warnings.warn(\n"
          ]
        },
        {
          "data": {
            "image/png": "[encoded data removed]",
            "text/plain": [
              "<Figure size 864x288 with 1 Axes>"
            ]
          },
          "metadata": {
            "needs_background": "light"
          },
          "output_type": "display_data"
        }
      ],
      "source": [
        "# distribution of Survived by family size\n",
        "plt.figure(figsize = (12, 4))\n",
        "sns.countplot(train['FamilySize'], hue = train['Survived'])\n",
        "plt.show()"
      ]
    },
    {
      "cell_type": "code",
      "execution_count": 63,
      "metadata": {
        "id": "IbeNAMpva5ov"
      },
      "outputs": [
        {
          "data": {
            "image/png": "[encoded data removed]",
            "text/plain": [
              "<Figure size 576x288 with 2 Axes>"
            ]
          },
          "metadata": {
            "needs_background": "light"
          },
          "output_type": "display_data"
        }
      ],
      "source": [
        "# survived by age\n",
        "train.hist('Age', by = 'Survived', rot = 0, figsize = (8, 4))\n",
        "plt.suptitle(\"Survival by Age\")\n",
        "plt.show()"
      ]
    },
    {
      "cell_type": "code",
      "execution_count": 64,
      "metadata": {
        "id": "RFBkvdQma5ox"
      },
      "outputs": [
        {
          "data": {
            "image/png": "[encoded data removed]",
            "text/plain": [
              "<Figure size 576x288 with 2 Axes>"
            ]
          },
          "metadata": {
            "needs_background": "light"
          },
          "output_type": "display_data"
        }
      ],
      "source": [
        "# survived by Fare\n",
        "train.hist('Fare', by = 'Survived', rot = 0, figsize = (8, 4))\n",
        "plt.suptitle(\"Survival by Fare\")\n",
        "plt.show()"
      ]
    },
    {
      "cell_type": "markdown",
      "metadata": {
        "id": "45n0u2Ama5o0"
      },
      "source": [
        "## 3.4 Feature Encoding"
      ]
    },
    {
      "cell_type": "code",
      "execution_count": 65,
      "metadata": {
        "id": "9Bo0Y9Qpa5o2"
      },
      "outputs": [
        {
          "name": "stdout",
          "output_type": "stream",
          "text": [
            "Train:\n",
            "Survived           int64\n",
            "Pclass             int64\n",
            "Sex                int64\n",
            "Age              float64\n",
            "SibSp              int64\n",
            "Parch              int64\n",
            "Fare             float64\n",
            "Embarked           int64\n",
            "Title              int64\n",
            "FamilySize         int64\n",
            "FarePerPerson    float64\n",
            "dtype: object\n",
            "\n",
            "Test:\n",
            "Pclass             int64\n",
            "Sex                int64\n",
            "Age              float64\n",
            "SibSp              int64\n",
            "Parch              int64\n",
            "Fare             float64\n",
            "Embarked           int64\n",
            "Title              int64\n",
            "FamilySize         int64\n",
            "FarePerPerson    float64\n",
            "dtype: object\n"
          ]
        }
      ],
      "source": [
        "from sklearn.preprocessing import LabelEncoder\n",
        "\n",
        "#Encoding Sex\n",
        "le_sex = LabelEncoder().fit(train['Sex'].unique())\n",
        "sex_classes = le_sex.classes_\n",
        "train['Sex'] = le_sex.transform(train['Sex'].values)\n",
        "test['Sex'] = le_sex.transform(test['Sex'].values)\n",
        "\n",
        "#Encoding Embarked\n",
        "le_embarked = LabelEncoder().fit(train['Embarked'].unique())\n",
        "embarked_classes = le_embarked.classes_\n",
        "train['Embarked'] = le_embarked.transform(train['Embarked'].values)\n",
        "test['Embarked'] = le_embarked.transform(test['Embarked'].values)\n",
        "\n",
        "\n",
        "#Encoding Title\n",
        "le_train_title = LabelEncoder().fit(train['Title'].unique())\n",
        "train_title_classes = le_train_title.classes_\n",
        "train['Title'] = le_train_title.transform(train['Title'].values)\n",
        "\n",
        "#Encode Title: Test\n",
        "le_test_title = LabelEncoder().fit(test['Title'].unique())\n",
        "test_title_classes = le_test_title.classes_\n",
        "test['Title'] = le_test_title.transform(test['Title'].values)\n",
        "\n",
        "\n",
        "#Previewing our modified datatypes\n",
        "print(\"Train:\")\n",
        "print(train.dtypes)\n",
        "print()\n",
        "print(\"Test:\")\n",
        "print(test.dtypes)"
      ]
    },
    {
      "cell_type": "markdown",
      "metadata": {
        "id": "GOsufTbaa5o7"
      },
      "source": [
        "# <font color='#2F4F4F'>4. Data Modeling</font>"
      ]
    },
    {
      "cell_type": "code",
      "execution_count": 66,
      "metadata": {
        "id": "f8Ta-bZFa5o8"
      },
      "outputs": [],
      "source": [
        "# splitting Train data into features (X) and label (Y)\n",
        "\n",
        "# splitting Train data into features (X) and label (Y)\n",
        "\n",
        "from sklearn.model_selection import train_test_split\n",
        "\n",
        "train_properties = list(train.columns.values)\n",
        "train_properties.remove('Survived')\n",
        "X = train[train_properties]\n",
        "Y = train['Survived']"
      ]
    },
    {
      "cell_type": "code",
      "execution_count": 67,
      "metadata": {
        "id": "s4kdQedBa5pF"
      },
      "outputs": [],
      "source": [
        "# splitting into 75-25 training and test sets\n",
        "\n",
        "X_train, X_test, Y_train, Y_test = train_test_split(X, Y, test_size=0.2, random_state=0)\n",
        "X_train, X_val, Y_train, Y_val = train_test_split(X_train, Y_train, test_size=0.2, random_state=0)"
      ]
    },
    {
      "cell_type": "code",
      "execution_count": 68,
      "metadata": {
        "id": "8hGlybYBa5pJ"
      },
      "outputs": [
        {
          "name": "stdout",
          "output_type": "stream",
          "text": [
            "Train shape: (787, 11)\n",
            "Test shape: (383, 10)\n",
            "X_val shape: (787, 11)\n",
            "y_val shape: (383, 10)\n"
          ]
        }
      ],
      "source": [
        "# performing feature scaling\n",
        "\n",
        "from sklearn.preprocessing import StandardScaler\n",
        "\n",
        "scaler = StandardScaler()\n",
        "\n",
        "# fit and transform X_train, transform X_test\n",
        "X_train = scaler.fit_transform(X_train)\n",
        "X_test = scaler.transform(X_test)\n",
        "\n",
        "print(\"Train shape:\", train.shape)\n",
        "print(\"Test shape:\", test.shape)\n",
        "\n",
        "print(\"X_val shape:\", train.shape)\n",
        "print(\"y_val shape:\", test.shape)"
      ]
    },
    {
      "cell_type": "markdown",
      "metadata": {
        "id": "_g0b1hrfa5pP"
      },
      "source": [
        "## 4.1 Normal Modeling"
      ]
    },
    {
      "cell_type": "code",
      "execution_count": 69,
      "metadata": {
        "id": "ccE6jMd8a5pQ"
      },
      "outputs": [
        {
          "name": "stdout",
          "output_type": "stream",
          "text": [
            "Epoch 1/300\n",
            "16/16 [==============================] - 1s 4ms/step - loss: 1.9614 - accuracy: 0.5308\n",
            "Epoch 2/300\n",
            "16/16 [==============================] - 0s 4ms/step - loss: 1.5970 - accuracy: 0.5149\n",
            "Epoch 3/300\n",
            "16/16 [==============================] - 0s 2ms/step - loss: 1.2634 - accuracy: 0.5030\n",
            "Epoch 4/300\n",
            "16/16 [==============================] - 0s 3ms/step - loss: 1.2146 - accuracy: 0.5268\n",
            "Epoch 5/300\n",
            "16/16 [==============================] - 0s 3ms/step - loss: 1.1220 - accuracy: 0.5288\n",
            "Epoch 6/300\n",
            "16/16 [==============================] - 0s 9ms/step - loss: 0.9231 - accuracy: 0.5726\n",
            "Epoch 7/300\n",
            "16/16 [==============================] - 0s 5ms/step - loss: 0.7122 - accuracy: 0.5746\n",
            "Epoch 8/300\n",
            "16/16 [==============================] - 0s 3ms/step - loss: 0.7177 - accuracy: 0.5646\n",
            "Epoch 9/300\n",
            "16/16 [==============================] - 0s 4ms/step - loss: 0.7515 - accuracy: 0.6143\n",
            "Epoch 10/300\n",
            "16/16 [==============================] - 0s 8ms/step - loss: 0.5743 - accuracy: 0.5984\n",
            "Epoch 11/300\n",
            "16/16 [==============================] - 0s 7ms/step - loss: 0.5157 - accuracy: 0.6223\n",
            "Epoch 12/300\n",
            "16/16 [==============================] - 0s 6ms/step - loss: 0.5304 - accuracy: 0.6024\n",
            "Epoch 13/300\n",
            "16/16 [==============================] - 0s 3ms/step - loss: 0.4871 - accuracy: 0.6342\n",
            "Epoch 14/300\n",
            "16/16 [==============================] - 0s 13ms/step - loss: 0.4695 - accuracy: 0.6342\n",
            "Epoch 15/300\n",
            "16/16 [==============================] - 0s 4ms/step - loss: 0.4509 - accuracy: 0.6660\n",
            "Epoch 16/300\n",
            "16/16 [==============================] - 0s 12ms/step - loss: 0.4376 - accuracy: 0.6600\n",
            "Epoch 17/300\n",
            "16/16 [==============================] - 0s 4ms/step - loss: 0.4042 - accuracy: 0.6759\n",
            "Epoch 18/300\n",
            "16/16 [==============================] - 0s 7ms/step - loss: 0.4121 - accuracy: 0.6600\n",
            "Epoch 19/300\n",
            "16/16 [==============================] - 0s 5ms/step - loss: 0.3899 - accuracy: 0.6402\n",
            "Epoch 20/300\n",
            "16/16 [==============================] - 0s 6ms/step - loss: 0.3775 - accuracy: 0.6680\n",
            "Epoch 21/300\n",
            "16/16 [==============================] - 0s 4ms/step - loss: 0.3572 - accuracy: 0.7018\n",
            "Epoch 22/300\n",
            "16/16 [==============================] - 0s 6ms/step - loss: 0.3689 - accuracy: 0.6620\n",
            "Epoch 23/300\n",
            "16/16 [==============================] - 0s 6ms/step - loss: 0.3493 - accuracy: 0.6660\n",
            "Epoch 24/300\n",
            "16/16 [==============================] - 0s 5ms/step - loss: 0.3173 - accuracy: 0.6759\n",
            "Epoch 25/300\n",
            "16/16 [==============================] - 0s 9ms/step - loss: 0.3056 - accuracy: 0.6700\n",
            "Epoch 26/300\n",
            "16/16 [==============================] - 0s 6ms/step - loss: 0.3754 - accuracy: 0.6620\n",
            "Epoch 27/300\n",
            "16/16 [==============================] - 0s 4ms/step - loss: 0.3432 - accuracy: 0.6680\n",
            "Epoch 28/300\n",
            "16/16 [==============================] - 0s 5ms/step - loss: 0.2893 - accuracy: 0.6859\n",
            "Epoch 29/300\n",
            "16/16 [==============================] - 0s 5ms/step - loss: 0.2818 - accuracy: 0.6740\n",
            "Epoch 30/300\n",
            "16/16 [==============================] - 0s 5ms/step - loss: 0.3016 - accuracy: 0.6740\n",
            "Epoch 31/300\n",
            "16/16 [==============================] - 0s 5ms/step - loss: 0.3038 - accuracy: 0.6740\n",
            "Epoch 32/300\n",
            "16/16 [==============================] - 0s 13ms/step - loss: 0.2987 - accuracy: 0.6938\n",
            "Epoch 33/300\n",
            "16/16 [==============================] - 0s 7ms/step - loss: 0.2904 - accuracy: 0.6879\n",
            "Epoch 34/300\n",
            "16/16 [==============================] - 0s 4ms/step - loss: 0.2816 - accuracy: 0.6938\n",
            "Epoch 35/300\n",
            "16/16 [==============================] - 0s 7ms/step - loss: 0.2752 - accuracy: 0.6918\n",
            "Epoch 36/300\n",
            "16/16 [==============================] - 0s 4ms/step - loss: 0.2693 - accuracy: 0.6799\n",
            "Epoch 37/300\n",
            "16/16 [==============================] - 0s 4ms/step - loss: 0.2498 - accuracy: 0.7078\n",
            "Epoch 38/300\n",
            "16/16 [==============================] - 0s 3ms/step - loss: 0.2404 - accuracy: 0.6958\n",
            "Epoch 39/300\n",
            "16/16 [==============================] - 0s 4ms/step - loss: 0.2388 - accuracy: 0.6938\n",
            "Epoch 40/300\n",
            "16/16 [==============================] - 0s 5ms/step - loss: 0.2532 - accuracy: 0.7117\n",
            "Epoch 41/300\n",
            "16/16 [==============================] - 0s 6ms/step - loss: 0.2466 - accuracy: 0.7078\n",
            "Epoch 42/300\n",
            "16/16 [==============================] - 0s 5ms/step - loss: 0.2331 - accuracy: 0.7197\n",
            "Epoch 43/300\n",
            "16/16 [==============================] - 0s 5ms/step - loss: 0.2496 - accuracy: 0.6839\n",
            "Epoch 44/300\n",
            "16/16 [==============================] - 0s 8ms/step - loss: 0.2393 - accuracy: 0.7018\n",
            "Epoch 45/300\n",
            "16/16 [==============================] - 0s 5ms/step - loss: 0.2114 - accuracy: 0.7296\n",
            "Epoch 46/300\n",
            "16/16 [==============================] - 0s 4ms/step - loss: 0.2321 - accuracy: 0.7177\n",
            "Epoch 47/300\n",
            "16/16 [==============================] - 0s 12ms/step - loss: 0.2286 - accuracy: 0.7078\n",
            "Epoch 48/300\n",
            "16/16 [==============================] - 0s 3ms/step - loss: 0.2246 - accuracy: 0.7137\n",
            "Epoch 49/300\n",
            "16/16 [==============================] - 0s 4ms/step - loss: 0.2034 - accuracy: 0.7336\n",
            "Epoch 50/300\n",
            "16/16 [==============================] - 0s 3ms/step - loss: 0.2195 - accuracy: 0.7356\n",
            "Epoch 51/300\n",
            "16/16 [==============================] - 0s 6ms/step - loss: 0.2085 - accuracy: 0.7177\n",
            "Epoch 52/300\n",
            "16/16 [==============================] - 0s 4ms/step - loss: 0.2078 - accuracy: 0.7197\n",
            "Epoch 53/300\n",
            "16/16 [==============================] - 0s 5ms/step - loss: 0.2113 - accuracy: 0.7356\n",
            "Epoch 54/300\n",
            "16/16 [==============================] - 0s 5ms/step - loss: 0.1927 - accuracy: 0.7197\n",
            "Epoch 55/300\n",
            "16/16 [==============================] - 0s 5ms/step - loss: 0.1996 - accuracy: 0.7276\n",
            "Epoch 56/300\n",
            "16/16 [==============================] - 0s 6ms/step - loss: 0.1926 - accuracy: 0.7197\n",
            "Epoch 57/300\n",
            "16/16 [==============================] - 0s 5ms/step - loss: 0.1965 - accuracy: 0.7416\n",
            "Epoch 58/300\n",
            "16/16 [==============================] - 0s 8ms/step - loss: 0.2104 - accuracy: 0.7356\n",
            "Epoch 59/300\n",
            "16/16 [==============================] - 0s 4ms/step - loss: 0.2006 - accuracy: 0.7276\n",
            "Epoch 60/300\n",
            "16/16 [==============================] - 0s 4ms/step - loss: 0.2040 - accuracy: 0.7137\n",
            "Epoch 61/300\n",
            "16/16 [==============================] - 0s 4ms/step - loss: 0.1866 - accuracy: 0.7416\n",
            "Epoch 62/300\n",
            "16/16 [==============================] - 0s 10ms/step - loss: 0.1828 - accuracy: 0.7475\n",
            "Epoch 63/300\n",
            "16/16 [==============================] - 0s 6ms/step - loss: 0.1938 - accuracy: 0.7197\n",
            "Epoch 64/300\n",
            "16/16 [==============================] - 0s 5ms/step - loss: 0.1975 - accuracy: 0.7296\n",
            "Epoch 65/300\n",
            "16/16 [==============================] - 0s 4ms/step - loss: 0.1885 - accuracy: 0.7276\n",
            "Epoch 66/300\n",
            "16/16 [==============================] - 0s 4ms/step - loss: 0.1717 - accuracy: 0.7435\n",
            "Epoch 67/300\n",
            "16/16 [==============================] - 0s 5ms/step - loss: 0.1859 - accuracy: 0.7515\n",
            "Epoch 68/300\n",
            "16/16 [==============================] - 0s 5ms/step - loss: 0.1807 - accuracy: 0.7396\n",
            "Epoch 69/300\n",
            "16/16 [==============================] - 0s 4ms/step - loss: 0.2101 - accuracy: 0.7058\n",
            "Epoch 70/300\n",
            "16/16 [==============================] - 0s 6ms/step - loss: 0.1954 - accuracy: 0.7455\n",
            "Epoch 71/300\n",
            "16/16 [==============================] - 0s 5ms/step - loss: 0.1718 - accuracy: 0.7475\n",
            "Epoch 72/300\n",
            "16/16 [==============================] - 0s 5ms/step - loss: 0.1875 - accuracy: 0.7396\n",
            "Epoch 73/300\n",
            "16/16 [==============================] - 0s 5ms/step - loss: 0.1828 - accuracy: 0.7634\n",
            "Epoch 74/300\n",
            "16/16 [==============================] - 0s 4ms/step - loss: 0.1925 - accuracy: 0.7416\n",
            "Epoch 75/300\n",
            "16/16 [==============================] - 0s 2ms/step - loss: 0.1647 - accuracy: 0.7614\n",
            "Epoch 76/300\n",
            "16/16 [==============================] - 0s 3ms/step - loss: 0.1828 - accuracy: 0.7396\n",
            "Epoch 77/300\n",
            "16/16 [==============================] - 0s 3ms/step - loss: 0.1731 - accuracy: 0.7714\n",
            "Epoch 78/300\n",
            "16/16 [==============================] - 0s 3ms/step - loss: 0.1704 - accuracy: 0.7753\n",
            "Epoch 79/300\n",
            "16/16 [==============================] - 0s 3ms/step - loss: 0.1764 - accuracy: 0.7535\n",
            "Epoch 80/300\n",
            "16/16 [==============================] - 0s 4ms/step - loss: 0.1754 - accuracy: 0.7813\n",
            "Epoch 81/300\n",
            "16/16 [==============================] - 0s 3ms/step - loss: 0.1768 - accuracy: 0.7594\n",
            "Epoch 82/300\n",
            "16/16 [==============================] - 0s 3ms/step - loss: 0.1766 - accuracy: 0.7654\n",
            "Epoch 83/300\n",
            "16/16 [==============================] - 0s 3ms/step - loss: 0.1800 - accuracy: 0.7575\n",
            "Epoch 84/300\n",
            "16/16 [==============================] - 0s 3ms/step - loss: 0.1722 - accuracy: 0.7694\n",
            "Epoch 85/300\n",
            "16/16 [==============================] - 0s 2ms/step - loss: 0.1812 - accuracy: 0.7555\n",
            "Epoch 86/300\n",
            "16/16 [==============================] - 0s 2ms/step - loss: 0.1682 - accuracy: 0.7654\n",
            "Epoch 87/300\n",
            "16/16 [==============================] - 0s 3ms/step - loss: 0.1775 - accuracy: 0.7614\n",
            "Epoch 88/300\n",
            "16/16 [==============================] - 0s 3ms/step - loss: 0.1744 - accuracy: 0.7594\n",
            "Epoch 89/300\n",
            "16/16 [==============================] - 0s 3ms/step - loss: 0.1763 - accuracy: 0.7734\n",
            "Epoch 90/300\n",
            "16/16 [==============================] - 0s 2ms/step - loss: 0.1639 - accuracy: 0.7734\n",
            "Epoch 91/300\n",
            "16/16 [==============================] - 0s 2ms/step - loss: 0.1704 - accuracy: 0.7614\n",
            "Epoch 92/300\n",
            "16/16 [==============================] - 0s 3ms/step - loss: 0.1720 - accuracy: 0.7614\n",
            "Epoch 93/300\n",
            "16/16 [==============================] - 0s 5ms/step - loss: 0.1721 - accuracy: 0.7674\n",
            "Epoch 94/300\n",
            "16/16 [==============================] - 0s 2ms/step - loss: 0.1715 - accuracy: 0.7515\n",
            "Epoch 95/300\n",
            "16/16 [==============================] - 0s 3ms/step - loss: 0.1764 - accuracy: 0.7396\n",
            "Epoch 96/300\n",
            "16/16 [==============================] - 0s 5ms/step - loss: 0.1735 - accuracy: 0.7694\n",
            "Epoch 97/300\n",
            "16/16 [==============================] - 0s 12ms/step - loss: 0.1671 - accuracy: 0.7734\n",
            "Epoch 98/300\n",
            "16/16 [==============================] - 0s 4ms/step - loss: 0.1547 - accuracy: 0.7932\n",
            "Epoch 99/300\n",
            "16/16 [==============================] - 0s 3ms/step - loss: 0.1655 - accuracy: 0.7833\n",
            "Epoch 100/300\n",
            "16/16 [==============================] - 0s 4ms/step - loss: 0.1714 - accuracy: 0.7594\n",
            "Epoch 101/300\n",
            "16/16 [==============================] - 0s 4ms/step - loss: 0.1641 - accuracy: 0.7734\n",
            "Epoch 102/300\n",
            "16/16 [==============================] - 0s 4ms/step - loss: 0.1644 - accuracy: 0.7674\n",
            "Epoch 103/300\n",
            "16/16 [==============================] - 0s 4ms/step - loss: 0.1629 - accuracy: 0.7793\n",
            "Epoch 104/300\n",
            "16/16 [==============================] - 0s 3ms/step - loss: 0.1680 - accuracy: 0.7594\n",
            "Epoch 105/300\n",
            "16/16 [==============================] - 0s 4ms/step - loss: 0.1629 - accuracy: 0.7773\n",
            "Epoch 106/300\n",
            "16/16 [==============================] - 0s 4ms/step - loss: 0.1673 - accuracy: 0.7634\n",
            "Epoch 107/300\n",
            "16/16 [==============================] - 0s 5ms/step - loss: 0.1655 - accuracy: 0.7634\n",
            "Epoch 108/300\n",
            "16/16 [==============================] - 0s 4ms/step - loss: 0.1689 - accuracy: 0.7654\n",
            "Epoch 109/300\n",
            "16/16 [==============================] - 0s 3ms/step - loss: 0.1673 - accuracy: 0.7455\n",
            "Epoch 110/300\n",
            "16/16 [==============================] - 0s 3ms/step - loss: 0.1620 - accuracy: 0.7853\n",
            "Epoch 111/300\n",
            "16/16 [==============================] - 0s 4ms/step - loss: 0.1657 - accuracy: 0.7773\n",
            "Epoch 112/300\n",
            "16/16 [==============================] - 0s 3ms/step - loss: 0.1596 - accuracy: 0.8012\n",
            "Epoch 113/300\n",
            "16/16 [==============================] - 0s 4ms/step - loss: 0.1666 - accuracy: 0.7634\n",
            "Epoch 114/300\n",
            "16/16 [==============================] - 0s 10ms/step - loss: 0.1627 - accuracy: 0.7734\n",
            "Epoch 115/300\n",
            "16/16 [==============================] - 0s 5ms/step - loss: 0.1643 - accuracy: 0.7634\n",
            "Epoch 116/300\n",
            "16/16 [==============================] - 0s 3ms/step - loss: 0.1599 - accuracy: 0.7833\n",
            "Epoch 117/300\n",
            "16/16 [==============================] - 0s 3ms/step - loss: 0.1568 - accuracy: 0.7773\n",
            "Epoch 118/300\n",
            "16/16 [==============================] - 0s 3ms/step - loss: 0.1608 - accuracy: 0.7793\n",
            "Epoch 119/300\n",
            "16/16 [==============================] - 0s 3ms/step - loss: 0.1677 - accuracy: 0.7654\n",
            "Epoch 120/300\n",
            "16/16 [==============================] - 0s 3ms/step - loss: 0.1665 - accuracy: 0.7634\n",
            "Epoch 121/300\n",
            "16/16 [==============================] - 0s 4ms/step - loss: 0.1539 - accuracy: 0.7893\n",
            "Epoch 122/300\n",
            "16/16 [==============================] - 0s 4ms/step - loss: 0.1615 - accuracy: 0.7714\n",
            "Epoch 123/300\n",
            "16/16 [==============================] - 0s 3ms/step - loss: 0.1606 - accuracy: 0.7833\n",
            "Epoch 124/300\n",
            "16/16 [==============================] - 0s 4ms/step - loss: 0.1647 - accuracy: 0.7753\n",
            "Epoch 125/300\n",
            "16/16 [==============================] - 0s 3ms/step - loss: 0.1495 - accuracy: 0.7992\n",
            "Epoch 126/300\n",
            "16/16 [==============================] - 0s 4ms/step - loss: 0.1590 - accuracy: 0.8072\n",
            "Epoch 127/300\n",
            "16/16 [==============================] - 0s 5ms/step - loss: 0.1591 - accuracy: 0.7734\n",
            "Epoch 128/300\n",
            "16/16 [==============================] - 0s 5ms/step - loss: 0.1599 - accuracy: 0.7773\n",
            "Epoch 129/300\n",
            "16/16 [==============================] - 0s 7ms/step - loss: 0.1554 - accuracy: 0.7714\n",
            "Epoch 130/300\n",
            "16/16 [==============================] - 0s 7ms/step - loss: 0.1513 - accuracy: 0.7932\n",
            "Epoch 131/300\n",
            "16/16 [==============================] - 0s 5ms/step - loss: 0.1576 - accuracy: 0.7913\n",
            "Epoch 132/300\n",
            "16/16 [==============================] - 0s 3ms/step - loss: 0.1647 - accuracy: 0.7594\n",
            "Epoch 133/300\n",
            "16/16 [==============================] - 0s 4ms/step - loss: 0.1678 - accuracy: 0.7575\n",
            "Epoch 134/300\n",
            "16/16 [==============================] - 0s 6ms/step - loss: 0.1504 - accuracy: 0.7833\n",
            "Epoch 135/300\n",
            "16/16 [==============================] - 0s 6ms/step - loss: 0.1540 - accuracy: 0.7932\n",
            "Epoch 136/300\n",
            "16/16 [==============================] - 0s 8ms/step - loss: 0.1587 - accuracy: 0.7753\n",
            "Epoch 137/300\n",
            "16/16 [==============================] - 0s 5ms/step - loss: 0.1518 - accuracy: 0.7952\n",
            "Epoch 138/300\n",
            "16/16 [==============================] - 0s 4ms/step - loss: 0.1578 - accuracy: 0.7753\n",
            "Epoch 139/300\n",
            "16/16 [==============================] - 0s 4ms/step - loss: 0.1540 - accuracy: 0.7853\n",
            "Epoch 140/300\n",
            "16/16 [==============================] - 0s 9ms/step - loss: 0.1524 - accuracy: 0.7853\n",
            "Epoch 141/300\n",
            "16/16 [==============================] - 0s 5ms/step - loss: 0.1514 - accuracy: 0.7972\n",
            "Epoch 142/300\n",
            "16/16 [==============================] - 0s 4ms/step - loss: 0.1613 - accuracy: 0.7773\n",
            "Epoch 143/300\n",
            "16/16 [==============================] - 0s 4ms/step - loss: 0.1535 - accuracy: 0.7853\n",
            "Epoch 144/300\n",
            "16/16 [==============================] - 0s 5ms/step - loss: 0.1597 - accuracy: 0.7634\n",
            "Epoch 145/300\n",
            "16/16 [==============================] - 0s 4ms/step - loss: 0.1615 - accuracy: 0.7753\n",
            "Epoch 146/300\n",
            "16/16 [==============================] - 0s 3ms/step - loss: 0.1536 - accuracy: 0.8012\n",
            "Epoch 147/300\n",
            "16/16 [==============================] - 0s 4ms/step - loss: 0.1444 - accuracy: 0.8131\n",
            "Epoch 148/300\n",
            "16/16 [==============================] - 0s 4ms/step - loss: 0.1518 - accuracy: 0.8052\n",
            "Epoch 149/300\n",
            "16/16 [==============================] - 0s 5ms/step - loss: 0.1471 - accuracy: 0.8131\n",
            "Epoch 150/300\n",
            "16/16 [==============================] - 0s 5ms/step - loss: 0.1632 - accuracy: 0.7714\n",
            "Epoch 151/300\n",
            "16/16 [==============================] - 0s 6ms/step - loss: 0.1525 - accuracy: 0.7932\n",
            "Epoch 152/300\n",
            "16/16 [==============================] - 0s 5ms/step - loss: 0.1563 - accuracy: 0.7793\n",
            "Epoch 153/300\n",
            "16/16 [==============================] - 0s 5ms/step - loss: 0.1550 - accuracy: 0.7873\n",
            "Epoch 154/300\n",
            "16/16 [==============================] - 0s 5ms/step - loss: 0.1591 - accuracy: 0.7654\n",
            "Epoch 155/300\n",
            "16/16 [==============================] - 0s 5ms/step - loss: 0.1565 - accuracy: 0.7893\n",
            "Epoch 156/300\n",
            "16/16 [==============================] - 0s 3ms/step - loss: 0.1557 - accuracy: 0.7893\n",
            "Epoch 157/300\n",
            "16/16 [==============================] - 0s 4ms/step - loss: 0.1554 - accuracy: 0.7753\n",
            "Epoch 158/300\n",
            "16/16 [==============================] - 0s 3ms/step - loss: 0.1508 - accuracy: 0.8012\n",
            "Epoch 159/300\n",
            "16/16 [==============================] - 0s 3ms/step - loss: 0.1607 - accuracy: 0.7714\n",
            "Epoch 160/300\n",
            "16/16 [==============================] - 0s 3ms/step - loss: 0.1605 - accuracy: 0.7694\n",
            "Epoch 161/300\n",
            "16/16 [==============================] - 0s 3ms/step - loss: 0.1582 - accuracy: 0.7853\n",
            "Epoch 162/300\n",
            "16/16 [==============================] - 0s 3ms/step - loss: 0.1578 - accuracy: 0.7575\n",
            "Epoch 163/300\n",
            "16/16 [==============================] - 0s 3ms/step - loss: 0.1554 - accuracy: 0.7913\n",
            "Epoch 164/300\n",
            "16/16 [==============================] - 0s 4ms/step - loss: 0.1554 - accuracy: 0.7932\n",
            "Epoch 165/300\n",
            "16/16 [==============================] - 0s 8ms/step - loss: 0.1560 - accuracy: 0.7793\n",
            "Epoch 166/300\n",
            "16/16 [==============================] - 0s 3ms/step - loss: 0.1472 - accuracy: 0.7972\n",
            "Epoch 167/300\n",
            "16/16 [==============================] - 0s 3ms/step - loss: 0.1569 - accuracy: 0.7753\n",
            "Epoch 168/300\n",
            "16/16 [==============================] - 0s 3ms/step - loss: 0.1557 - accuracy: 0.7773\n",
            "Epoch 169/300\n",
            "16/16 [==============================] - 0s 3ms/step - loss: 0.1538 - accuracy: 0.8012\n",
            "Epoch 170/300\n",
            "16/16 [==============================] - 0s 4ms/step - loss: 0.1597 - accuracy: 0.7734\n",
            "Epoch 171/300\n",
            "16/16 [==============================] - 0s 12ms/step - loss: 0.1576 - accuracy: 0.7753\n",
            "Epoch 172/300\n",
            "16/16 [==============================] - 0s 4ms/step - loss: 0.1546 - accuracy: 0.8012\n",
            "Epoch 173/300\n",
            "16/16 [==============================] - 0s 3ms/step - loss: 0.1561 - accuracy: 0.8032\n",
            "Epoch 174/300\n",
            "16/16 [==============================] - 0s 3ms/step - loss: 0.1537 - accuracy: 0.7873\n",
            "Epoch 175/300\n",
            "16/16 [==============================] - 0s 3ms/step - loss: 0.1557 - accuracy: 0.7853\n",
            "Epoch 176/300\n",
            "16/16 [==============================] - 0s 4ms/step - loss: 0.1517 - accuracy: 0.7913\n",
            "Epoch 177/300\n",
            "16/16 [==============================] - 0s 3ms/step - loss: 0.1542 - accuracy: 0.7913\n",
            "Epoch 178/300\n",
            "16/16 [==============================] - 0s 5ms/step - loss: 0.1525 - accuracy: 0.8012\n",
            "Epoch 179/300\n",
            "16/16 [==============================] - 0s 5ms/step - loss: 0.1546 - accuracy: 0.7813\n",
            "Epoch 180/300\n",
            "16/16 [==============================] - 0s 3ms/step - loss: 0.1552 - accuracy: 0.7833\n",
            "Epoch 181/300\n",
            "16/16 [==============================] - 0s 3ms/step - loss: 0.1534 - accuracy: 0.7932\n",
            "Epoch 182/300\n",
            "16/16 [==============================] - 0s 3ms/step - loss: 0.1481 - accuracy: 0.7952\n",
            "Epoch 183/300\n",
            "16/16 [==============================] - 0s 4ms/step - loss: 0.1484 - accuracy: 0.8091\n",
            "Epoch 184/300\n",
            "16/16 [==============================] - 0s 19ms/step - loss: 0.1512 - accuracy: 0.8012\n",
            "Epoch 185/300\n",
            "16/16 [==============================] - 0s 5ms/step - loss: 0.1538 - accuracy: 0.7992\n",
            "Epoch 186/300\n",
            "16/16 [==============================] - 0s 4ms/step - loss: 0.1541 - accuracy: 0.7833\n",
            "Epoch 187/300\n",
            "16/16 [==============================] - 0s 15ms/step - loss: 0.1463 - accuracy: 0.7932\n",
            "Epoch 188/300\n",
            "16/16 [==============================] - 0s 4ms/step - loss: 0.1521 - accuracy: 0.7873\n",
            "Epoch 189/300\n",
            "16/16 [==============================] - 0s 9ms/step - loss: 0.1548 - accuracy: 0.7913\n",
            "Epoch 190/300\n",
            "16/16 [==============================] - 0s 3ms/step - loss: 0.1458 - accuracy: 0.8012\n",
            "Epoch 191/300\n",
            "16/16 [==============================] - 0s 8ms/step - loss: 0.1459 - accuracy: 0.8052\n",
            "Epoch 192/300\n",
            "16/16 [==============================] - 0s 4ms/step - loss: 0.1556 - accuracy: 0.7793\n",
            "Epoch 193/300\n",
            "16/16 [==============================] - 0s 16ms/step - loss: 0.1473 - accuracy: 0.8131\n",
            "Epoch 194/300\n",
            "16/16 [==============================] - 0s 8ms/step - loss: 0.1518 - accuracy: 0.7952\n",
            "Epoch 195/300\n",
            "16/16 [==============================] - 0s 3ms/step - loss: 0.1450 - accuracy: 0.7952\n",
            "Epoch 196/300\n",
            "16/16 [==============================] - 0s 10ms/step - loss: 0.1487 - accuracy: 0.7972\n",
            "Epoch 197/300\n",
            "16/16 [==============================] - 0s 5ms/step - loss: 0.1532 - accuracy: 0.7972\n",
            "Epoch 198/300\n",
            "16/16 [==============================] - 0s 3ms/step - loss: 0.1515 - accuracy: 0.7972\n",
            "Epoch 199/300\n",
            "16/16 [==============================] - 0s 3ms/step - loss: 0.1475 - accuracy: 0.8052\n",
            "Epoch 200/300\n",
            "16/16 [==============================] - 0s 3ms/step - loss: 0.1511 - accuracy: 0.7992\n",
            "Epoch 201/300\n",
            "16/16 [==============================] - 0s 4ms/step - loss: 0.1524 - accuracy: 0.7694\n",
            "Epoch 202/300\n",
            "16/16 [==============================] - 0s 4ms/step - loss: 0.1495 - accuracy: 0.7873\n",
            "Epoch 203/300\n",
            "16/16 [==============================] - 0s 15ms/step - loss: 0.1496 - accuracy: 0.7992\n",
            "Epoch 204/300\n",
            "16/16 [==============================] - 0s 4ms/step - loss: 0.1503 - accuracy: 0.7972\n",
            "Epoch 205/300\n",
            "16/16 [==============================] - 0s 4ms/step - loss: 0.1492 - accuracy: 0.7932\n",
            "Epoch 206/300\n",
            "16/16 [==============================] - 0s 4ms/step - loss: 0.1380 - accuracy: 0.8191\n",
            "Epoch 207/300\n",
            "16/16 [==============================] - 0s 3ms/step - loss: 0.1518 - accuracy: 0.7893\n",
            "Epoch 208/300\n",
            "16/16 [==============================] - 0s 4ms/step - loss: 0.1545 - accuracy: 0.7932\n",
            "Epoch 209/300\n",
            "16/16 [==============================] - 0s 4ms/step - loss: 0.1479 - accuracy: 0.7913\n",
            "Epoch 210/300\n",
            "16/16 [==============================] - 0s 19ms/step - loss: 0.1464 - accuracy: 0.7952\n",
            "Epoch 211/300\n",
            "16/16 [==============================] - 0s 4ms/step - loss: 0.1488 - accuracy: 0.8012\n",
            "Epoch 212/300\n",
            "16/16 [==============================] - 0s 10ms/step - loss: 0.1383 - accuracy: 0.8270\n",
            "Epoch 213/300\n",
            "16/16 [==============================] - 0s 4ms/step - loss: 0.1469 - accuracy: 0.7972\n",
            "Epoch 214/300\n",
            "16/16 [==============================] - 0s 5ms/step - loss: 0.1411 - accuracy: 0.8111\n",
            "Epoch 215/300\n",
            "16/16 [==============================] - 0s 4ms/step - loss: 0.1460 - accuracy: 0.7952\n",
            "Epoch 216/300\n",
            "16/16 [==============================] - 0s 3ms/step - loss: 0.1472 - accuracy: 0.7932\n",
            "Epoch 217/300\n",
            "16/16 [==============================] - 0s 5ms/step - loss: 0.1472 - accuracy: 0.8032\n",
            "Epoch 218/300\n",
            "16/16 [==============================] - 0s 5ms/step - loss: 0.1468 - accuracy: 0.8012\n",
            "Epoch 219/300\n",
            "16/16 [==============================] - 0s 10ms/step - loss: 0.1487 - accuracy: 0.8072\n",
            "Epoch 220/300\n",
            "16/16 [==============================] - 0s 5ms/step - loss: 0.1418 - accuracy: 0.8032\n",
            "Epoch 221/300\n",
            "16/16 [==============================] - 0s 3ms/step - loss: 0.1471 - accuracy: 0.7833\n",
            "Epoch 222/300\n",
            "16/16 [==============================] - 0s 5ms/step - loss: 0.1428 - accuracy: 0.8211\n",
            "Epoch 223/300\n",
            "16/16 [==============================] - 0s 3ms/step - loss: 0.1436 - accuracy: 0.8052\n",
            "Epoch 224/300\n",
            "16/16 [==============================] - 0s 4ms/step - loss: 0.1431 - accuracy: 0.8072\n",
            "Epoch 225/300\n",
            "16/16 [==============================] - 0s 3ms/step - loss: 0.1449 - accuracy: 0.8171\n",
            "Epoch 226/300\n",
            "16/16 [==============================] - 0s 3ms/step - loss: 0.1469 - accuracy: 0.8012\n",
            "Epoch 227/300\n",
            "16/16 [==============================] - 0s 3ms/step - loss: 0.1436 - accuracy: 0.8052\n",
            "Epoch 228/300\n",
            "16/16 [==============================] - 0s 3ms/step - loss: 0.1421 - accuracy: 0.8111\n",
            "Epoch 229/300\n",
            "16/16 [==============================] - 0s 4ms/step - loss: 0.1460 - accuracy: 0.8131\n",
            "Epoch 230/300\n",
            "16/16 [==============================] - 0s 8ms/step - loss: 0.1407 - accuracy: 0.8151\n",
            "Epoch 231/300\n",
            "16/16 [==============================] - 0s 5ms/step - loss: 0.1479 - accuracy: 0.7893\n",
            "Epoch 232/300\n",
            "16/16 [==============================] - 0s 4ms/step - loss: 0.1447 - accuracy: 0.7992\n",
            "Epoch 233/300\n",
            "16/16 [==============================] - 0s 3ms/step - loss: 0.1371 - accuracy: 0.8151\n",
            "Epoch 234/300\n",
            "16/16 [==============================] - 0s 5ms/step - loss: 0.1419 - accuracy: 0.8131\n",
            "Epoch 235/300\n",
            "16/16 [==============================] - 0s 5ms/step - loss: 0.1437 - accuracy: 0.8012\n",
            "Epoch 236/300\n",
            "16/16 [==============================] - 0s 4ms/step - loss: 0.1459 - accuracy: 0.8032\n",
            "Epoch 237/300\n",
            "16/16 [==============================] - 0s 2ms/step - loss: 0.1484 - accuracy: 0.7992\n",
            "Epoch 238/300\n",
            "16/16 [==============================] - 0s 3ms/step - loss: 0.1474 - accuracy: 0.8012\n",
            "Epoch 239/300\n",
            "16/16 [==============================] - 0s 3ms/step - loss: 0.1393 - accuracy: 0.8211\n",
            "Epoch 240/300\n",
            "16/16 [==============================] - 0s 11ms/step - loss: 0.1438 - accuracy: 0.8072\n",
            "Epoch 241/300\n",
            "16/16 [==============================] - 0s 6ms/step - loss: 0.1405 - accuracy: 0.7932\n",
            "Epoch 242/300\n",
            "16/16 [==============================] - 0s 3ms/step - loss: 0.1473 - accuracy: 0.8091\n",
            "Epoch 243/300\n",
            "16/16 [==============================] - 0s 5ms/step - loss: 0.1447 - accuracy: 0.7992\n",
            "Epoch 244/300\n",
            "16/16 [==============================] - 0s 9ms/step - loss: 0.1504 - accuracy: 0.7614\n",
            "Epoch 245/300\n",
            "16/16 [==============================] - 0s 3ms/step - loss: 0.1456 - accuracy: 0.7853\n",
            "Epoch 246/300\n",
            "16/16 [==============================] - 0s 3ms/step - loss: 0.1402 - accuracy: 0.8171\n",
            "Epoch 247/300\n",
            "16/16 [==============================] - 0s 3ms/step - loss: 0.1448 - accuracy: 0.7952\n",
            "Epoch 248/300\n",
            "16/16 [==============================] - 0s 7ms/step - loss: 0.1414 - accuracy: 0.7952\n",
            "Epoch 249/300\n",
            "16/16 [==============================] - 0s 6ms/step - loss: 0.1404 - accuracy: 0.8151\n",
            "Epoch 250/300\n",
            "16/16 [==============================] - 0s 5ms/step - loss: 0.1446 - accuracy: 0.8091\n",
            "Epoch 251/300\n",
            "16/16 [==============================] - 0s 6ms/step - loss: 0.1440 - accuracy: 0.7873\n",
            "Epoch 252/300\n",
            "16/16 [==============================] - 0s 6ms/step - loss: 0.1449 - accuracy: 0.8072\n",
            "Epoch 253/300\n",
            "16/16 [==============================] - 0s 5ms/step - loss: 0.1352 - accuracy: 0.8231\n",
            "Epoch 254/300\n",
            "16/16 [==============================] - 0s 7ms/step - loss: 0.1417 - accuracy: 0.7913\n",
            "Epoch 255/300\n",
            "16/16 [==============================] - 0s 5ms/step - loss: 0.1419 - accuracy: 0.8151\n",
            "Epoch 256/300\n",
            "16/16 [==============================] - 0s 7ms/step - loss: 0.1361 - accuracy: 0.8131\n",
            "Epoch 257/300\n",
            "16/16 [==============================] - 0s 7ms/step - loss: 0.1444 - accuracy: 0.7893\n",
            "Epoch 258/300\n",
            "16/16 [==============================] - 0s 6ms/step - loss: 0.1432 - accuracy: 0.7913\n",
            "Epoch 259/300\n",
            "16/16 [==============================] - 0s 5ms/step - loss: 0.1516 - accuracy: 0.8091\n",
            "Epoch 260/300\n",
            "16/16 [==============================] - 0s 5ms/step - loss: 0.1455 - accuracy: 0.8072\n",
            "Epoch 261/300\n",
            "16/16 [==============================] - 0s 4ms/step - loss: 0.1423 - accuracy: 0.7992\n",
            "Epoch 262/300\n",
            "16/16 [==============================] - 0s 3ms/step - loss: 0.1473 - accuracy: 0.8012\n",
            "Epoch 263/300\n",
            "16/16 [==============================] - 0s 3ms/step - loss: 0.1423 - accuracy: 0.7992\n",
            "Epoch 264/300\n",
            "16/16 [==============================] - 0s 3ms/step - loss: 0.1531 - accuracy: 0.7952\n",
            "Epoch 265/300\n",
            "16/16 [==============================] - 0s 3ms/step - loss: 0.1388 - accuracy: 0.8072\n",
            "Epoch 266/300\n",
            "16/16 [==============================] - 0s 3ms/step - loss: 0.1401 - accuracy: 0.7992\n",
            "Epoch 267/300\n",
            "16/16 [==============================] - 0s 3ms/step - loss: 0.1402 - accuracy: 0.8111\n",
            "Epoch 268/300\n",
            "16/16 [==============================] - 0s 3ms/step - loss: 0.1423 - accuracy: 0.8012\n",
            "Epoch 269/300\n",
            "16/16 [==============================] - 0s 8ms/step - loss: 0.1447 - accuracy: 0.8111\n",
            "Epoch 270/300\n",
            "16/16 [==============================] - 0s 12ms/step - loss: 0.1401 - accuracy: 0.8211\n",
            "Epoch 271/300\n",
            "16/16 [==============================] - 0s 4ms/step - loss: 0.1434 - accuracy: 0.8012\n",
            "Epoch 272/300\n",
            "16/16 [==============================] - 0s 6ms/step - loss: 0.1465 - accuracy: 0.8052\n",
            "Epoch 273/300\n",
            "16/16 [==============================] - 0s 3ms/step - loss: 0.1438 - accuracy: 0.7952\n",
            "Epoch 274/300\n",
            "16/16 [==============================] - 0s 4ms/step - loss: 0.1391 - accuracy: 0.7932\n",
            "Epoch 275/300\n",
            "16/16 [==============================] - 0s 4ms/step - loss: 0.1444 - accuracy: 0.8091\n",
            "Epoch 276/300\n",
            "16/16 [==============================] - 0s 3ms/step - loss: 0.1409 - accuracy: 0.8072\n",
            "Epoch 277/300\n",
            "16/16 [==============================] - 0s 5ms/step - loss: 0.1440 - accuracy: 0.8052\n",
            "Epoch 278/300\n",
            "16/16 [==============================] - 0s 4ms/step - loss: 0.1404 - accuracy: 0.8052\n",
            "Epoch 279/300\n",
            "16/16 [==============================] - 0s 3ms/step - loss: 0.1413 - accuracy: 0.8052\n",
            "Epoch 280/300\n",
            "16/16 [==============================] - 0s 4ms/step - loss: 0.1417 - accuracy: 0.8052\n",
            "Epoch 281/300\n",
            "16/16 [==============================] - 0s 3ms/step - loss: 0.1410 - accuracy: 0.8012\n",
            "Epoch 282/300\n",
            "16/16 [==============================] - 0s 3ms/step - loss: 0.1390 - accuracy: 0.7952\n",
            "Epoch 283/300\n",
            "16/16 [==============================] - 0s 4ms/step - loss: 0.1472 - accuracy: 0.7972\n",
            "Epoch 284/300\n",
            "16/16 [==============================] - 0s 3ms/step - loss: 0.1402 - accuracy: 0.8091\n",
            "Epoch 285/300\n",
            "16/16 [==============================] - 0s 4ms/step - loss: 0.1437 - accuracy: 0.8032\n",
            "Epoch 286/300\n",
            "16/16 [==============================] - 0s 3ms/step - loss: 0.1378 - accuracy: 0.8250\n",
            "Epoch 287/300\n",
            "16/16 [==============================] - 0s 3ms/step - loss: 0.1380 - accuracy: 0.8231\n",
            "Epoch 288/300\n",
            "16/16 [==============================] - 0s 3ms/step - loss: 0.1411 - accuracy: 0.8191\n",
            "Epoch 289/300\n",
            "16/16 [==============================] - 0s 6ms/step - loss: 0.1409 - accuracy: 0.8012\n",
            "Epoch 290/300\n",
            "16/16 [==============================] - 0s 13ms/step - loss: 0.1426 - accuracy: 0.8171\n",
            "Epoch 291/300\n",
            "16/16 [==============================] - 0s 3ms/step - loss: 0.1430 - accuracy: 0.8131\n",
            "Epoch 292/300\n",
            "16/16 [==============================] - 0s 3ms/step - loss: 0.1465 - accuracy: 0.8052\n",
            "Epoch 293/300\n",
            "16/16 [==============================] - 0s 4ms/step - loss: 0.1519 - accuracy: 0.7813\n",
            "Epoch 294/300\n",
            "16/16 [==============================] - 0s 4ms/step - loss: 0.1394 - accuracy: 0.8032\n",
            "Epoch 295/300\n",
            "16/16 [==============================] - 0s 3ms/step - loss: 0.1380 - accuracy: 0.8111\n",
            "Epoch 296/300\n",
            "16/16 [==============================] - 0s 4ms/step - loss: 0.1436 - accuracy: 0.8111\n",
            "Epoch 297/300\n",
            "16/16 [==============================] - 0s 3ms/step - loss: 0.1416 - accuracy: 0.8111\n",
            "Epoch 298/300\n",
            "16/16 [==============================] - 0s 3ms/step - loss: 0.1424 - accuracy: 0.8111\n",
            "Epoch 299/300\n",
            "16/16 [==============================] - 0s 4ms/step - loss: 0.1414 - accuracy: 0.7952\n",
            "Epoch 300/300\n",
            "16/16 [==============================] - 0s 4ms/step - loss: 0.1431 - accuracy: 0.8091\n",
            "5/5 [==============================] - 0s 5ms/step - loss: 0.1363 - accuracy: 0.8165\n",
            "Model with One Dense Layer - Accuracy: 0.8164557218551636\n"
          ]
        }
      ],
      "source": [
        "# Neural networks library and modules\n",
        " \n",
        "import keras\n",
        "from keras.models import Sequential\n",
        "from keras.layers import Dense\n",
        "from keras.layers import Dropout\n",
        "\n",
        "# Defining our ANN and compiling it \n",
        "\n",
        "ann_classifier_1 = Sequential() \n",
        "ann_classifier_1.add(Dense(units = 10, input_dim = 10, activation = 'relu'))\n",
        "ann_classifier_1.add(Dropout(0.3, seed = 2)) \n",
        "ann_classifier_1.add(Dense(units = 1))\n",
        "\n",
        "# Compiling the model\n",
        "\n",
        "ann_classifier_1.compile(optimizer = 'adam', loss = 'mse', metrics = ['accuracy'])\n",
        "\n",
        "# Fitting the model\n",
        "\n",
        "ann_classifier_1.fit(X_train, Y_train, epochs=300)\n",
        "\n",
        "# Evaluating our model\n",
        "\n",
        "loss, accuracy = ann_classifier_1.evaluate(X_test, Y_test)\n",
        "print('Model with One Dense Layer - Accuracy:', accuracy)"
      ]
    },
    {
      "cell_type": "markdown",
      "metadata": {
        "id": "Pe8-IP_sa5pV"
      },
      "source": [
        "## 4.2 Modeling with Grid Search"
      ]
    },
    {
      "cell_type": "markdown",
      "metadata": {
        "id": "hPw-Q8m5K1n6"
      },
      "source": [
        "For this example, we will use the Runtime type -> TPU (Tensorfolow Processing Unit). To change run type go to Menu -> Runtime -> Change runtime type -> TPU."
      ]
    },
    {
      "cell_type": "code",
      "execution_count": 76,
      "metadata": {
        "id": "KPdlyE78y15-"
      },
      "outputs": [
        {
          "name": "stdout",
          "output_type": "stream",
          "text": [
            "Epoch 1/50\n"
          ]
        },
        {
          "name": "stderr",
          "output_type": "stream",
          "text": [
            "/var/folders/yy/bnrc1d191h71x84crsy6p5dh0000gn/T/ipykernel_25807/2740107897.py:31: DeprecationWarning: KerasClassifier is deprecated, use Sci-Keras (https://github.com/adriangb/scikeras) instead. See https://www.adriangb.com/scikeras/stable/migration.html for help migrating.\n",
            "  model_epochs_batches = KerasClassifier(build_fn = create_model)\n"
          ]
        }
      ],
      "source": [
        "# Tuning the no. of epochs \n",
        "# ---\n",
        "# epochs = [50, 100, 500]\n",
        "# ---\n",
        "\n",
        "from tensorflow import keras\n",
        "from keras.models import Sequential\n",
        "from keras.layers import Dense\n",
        "from keras.layers import Dropout\n",
        "from keras.wrappers.scikit_learn import KerasClassifier\n",
        "from sklearn.model_selection import GridSearchCV\n",
        "\n",
        "# Creating our ANN \n",
        "\n",
        "def create_model():\n",
        "  classifier = Sequential()\n",
        "  classifier.add(Dense(units = 10, input_dim = 10, activation = \"softmax\"))\n",
        "  classifier.add(Dropout(0.3, seed = 2))\n",
        "  classifier.add(Dense(units = 10, activation = 'relu'))\n",
        "  classifier.add(Dropout(0.2, seed = 2))\n",
        "  classifier.add(Dense(units = 1, activation = \"sigmoid\"))\n",
        "\n",
        "  \n",
        "# Compile the model\n",
        "  classifier.compile(optimizer = 'adam', loss = 'binary_crossentropy', metrics = ['accuracy'])\n",
        "\n",
        "# Return the model\n",
        "  return classifier\n",
        "\n",
        "# Creating the KerasClassifier instance\n",
        "model_epochs_batches = KerasClassifier(build_fn = create_model)\n",
        "\n",
        "# Performing grid search\n",
        "\n",
        "epochs = [50, 100, 500]\n",
        "#epochs = [50, 150, 200, 250, 300]\n",
        "batch_size = [32, 40, 48, 56, 60]\n",
        "param_grid = dict(batch_size = batch_size, epochs = epochs) \n",
        "grid = GridSearchCV(estimator = model_epochs_batches, param_grid = param_grid, scoring = 'accuracy', cv = 5)\n",
        "grid_result = grid.fit(X_train, Y_train)\n",
        "\n",
        "\n",
        "# Summarizing our grid search results\n",
        "\n",
        "epochs = [50, 100, 500]\n",
        "print(\"Best Accuracy Score: %f using %s\" % (grid_result.best_score_, grid_result.best_params_))"
      ]
    },
    {
      "cell_type": "markdown",
      "metadata": {
        "id": "LVsz0FqLa5pY"
      },
      "source": [
        "Your observation ..."
      ]
    },
    {
      "cell_type": "code",
      "execution_count": 72,
      "metadata": {
        "id": "nzSTyIBDKf3A"
      },
      "outputs": [],
      "source": [
        "# Define the ANN with optimal parameters\n",
        "optimal_model = Sequential()\n",
        "optimal_model.add(Dense(units = 10, input_dim = 10, activation = 'softmax'))\n",
        "optimal_model.add(Dropout(0.3, seed = 2)) \n",
        "optimal_model.add(Dense(units = 10, activation = 'tanh'))\n",
        "optimal_model.add(Dropout(0.2, seed = 2))\n",
        "optimal_model.add(Dense(units = 1, activation = \"sigmoid\"))"
      ]
    },
    {
      "cell_type": "code",
      "execution_count": 73,
      "metadata": {},
      "outputs": [],
      "source": [
        "# Set the learning rate for our optimized algorithm \n",
        "optimizer = keras.optimizers.Adam(learning_rate=0.01)"
      ]
    },
    {
      "cell_type": "code",
      "execution_count": 74,
      "metadata": {},
      "outputs": [],
      "source": [
        "\n",
        " # Compile the model\n",
        "optimal_model.compile(optimizer = optimizer, loss = 'binary_crossentropy', metrics = ['accuracy'])"
      ]
    },
    {
      "cell_type": "code",
      "execution_count": 75,
      "metadata": {},
      "outputs": [
        {
          "name": "stdout",
          "output_type": "stream",
          "text": [
            "Epoch 1/200\n",
            "11/11 [==============================] - 2s 6ms/step - loss: 0.6742 - accuracy: 0.5944\n",
            "Epoch 2/200\n",
            "11/11 [==============================] - 0s 21ms/step - loss: 0.6253 - accuracy: 0.6561\n",
            "Epoch 3/200\n",
            "11/11 [==============================] - 0s 5ms/step - loss: 0.5865 - accuracy: 0.7217\n",
            "Epoch 4/200\n",
            "11/11 [==============================] - 0s 7ms/step - loss: 0.5578 - accuracy: 0.7356\n",
            "Epoch 5/200\n",
            "11/11 [==============================] - 0s 4ms/step - loss: 0.5066 - accuracy: 0.7932\n",
            "Epoch 6/200\n",
            "11/11 [==============================] - 0s 7ms/step - loss: 0.5010 - accuracy: 0.7893\n",
            "Epoch 7/200\n",
            "11/11 [==============================] - 0s 5ms/step - loss: 0.5063 - accuracy: 0.7674\n",
            "Epoch 8/200\n",
            "11/11 [==============================] - 0s 4ms/step - loss: 0.5057 - accuracy: 0.7813\n",
            "Epoch 9/200\n",
            "11/11 [==============================] - 0s 6ms/step - loss: 0.4713 - accuracy: 0.7793\n",
            "Epoch 10/200\n",
            "11/11 [==============================] - 0s 3ms/step - loss: 0.4735 - accuracy: 0.7952\n",
            "Epoch 11/200\n",
            "11/11 [==============================] - 0s 5ms/step - loss: 0.4711 - accuracy: 0.7893\n",
            "Epoch 12/200\n",
            "11/11 [==============================] - 0s 7ms/step - loss: 0.4732 - accuracy: 0.7913\n",
            "Epoch 13/200\n",
            "11/11 [==============================] - 0s 5ms/step - loss: 0.4680 - accuracy: 0.7972\n",
            "Epoch 14/200\n",
            "11/11 [==============================] - 0s 7ms/step - loss: 0.4657 - accuracy: 0.7913\n",
            "Epoch 15/200\n",
            "11/11 [==============================] - 0s 4ms/step - loss: 0.4492 - accuracy: 0.8032\n",
            "Epoch 16/200\n",
            "11/11 [==============================] - 0s 5ms/step - loss: 0.4823 - accuracy: 0.7773\n",
            "Epoch 17/200\n",
            "11/11 [==============================] - 0s 6ms/step - loss: 0.4410 - accuracy: 0.8171\n",
            "Epoch 18/200\n",
            "11/11 [==============================] - 0s 7ms/step - loss: 0.4700 - accuracy: 0.7893\n",
            "Epoch 19/200\n",
            "11/11 [==============================] - 0s 6ms/step - loss: 0.4460 - accuracy: 0.7913\n",
            "Epoch 20/200\n",
            "11/11 [==============================] - 0s 7ms/step - loss: 0.4551 - accuracy: 0.8111\n",
            "Epoch 21/200\n",
            "11/11 [==============================] - 0s 4ms/step - loss: 0.4378 - accuracy: 0.7992\n",
            "Epoch 22/200\n",
            "11/11 [==============================] - 0s 6ms/step - loss: 0.4412 - accuracy: 0.8131\n",
            "Epoch 23/200\n",
            "11/11 [==============================] - 0s 25ms/step - loss: 0.4478 - accuracy: 0.8231\n",
            "Epoch 24/200\n",
            "11/11 [==============================] - 0s 6ms/step - loss: 0.4420 - accuracy: 0.8111\n",
            "Epoch 25/200\n",
            "11/11 [==============================] - 0s 5ms/step - loss: 0.4594 - accuracy: 0.7952\n",
            "Epoch 26/200\n",
            "11/11 [==============================] - 0s 4ms/step - loss: 0.4457 - accuracy: 0.8131\n",
            "Epoch 27/200\n",
            "11/11 [==============================] - 0s 7ms/step - loss: 0.4631 - accuracy: 0.7853\n",
            "Epoch 28/200\n",
            "11/11 [==============================] - 0s 6ms/step - loss: 0.4541 - accuracy: 0.7893\n",
            "Epoch 29/200\n",
            "11/11 [==============================] - 0s 4ms/step - loss: 0.4246 - accuracy: 0.8072\n",
            "Epoch 30/200\n",
            "11/11 [==============================] - 0s 5ms/step - loss: 0.4377 - accuracy: 0.8270\n",
            "Epoch 31/200\n",
            "11/11 [==============================] - 0s 6ms/step - loss: 0.4370 - accuracy: 0.8211\n",
            "Epoch 32/200\n",
            "11/11 [==============================] - 0s 29ms/step - loss: 0.4378 - accuracy: 0.8111\n",
            "Epoch 33/200\n",
            "11/11 [==============================] - 0s 26ms/step - loss: 0.4495 - accuracy: 0.8012\n",
            "Epoch 34/200\n",
            "11/11 [==============================] - 0s 15ms/step - loss: 0.4302 - accuracy: 0.8072\n",
            "Epoch 35/200\n",
            "11/11 [==============================] - 0s 16ms/step - loss: 0.4508 - accuracy: 0.7952\n",
            "Epoch 36/200\n",
            "11/11 [==============================] - 0s 25ms/step - loss: 0.4275 - accuracy: 0.8151\n",
            "Epoch 37/200\n",
            "11/11 [==============================] - 0s 17ms/step - loss: 0.4531 - accuracy: 0.8072\n",
            "Epoch 38/200\n",
            "11/11 [==============================] - 0s 14ms/step - loss: 0.4488 - accuracy: 0.8191\n",
            "Epoch 39/200\n",
            "11/11 [==============================] - 0s 17ms/step - loss: 0.4503 - accuracy: 0.8151\n",
            "Epoch 40/200\n",
            "11/11 [==============================] - 0s 5ms/step - loss: 0.4521 - accuracy: 0.7932\n",
            "Epoch 41/200\n",
            "11/11 [==============================] - 0s 10ms/step - loss: 0.4616 - accuracy: 0.7992\n",
            "Epoch 42/200\n",
            "11/11 [==============================] - 0s 16ms/step - loss: 0.4309 - accuracy: 0.8350\n",
            "Epoch 43/200\n",
            "11/11 [==============================] - 0s 15ms/step - loss: 0.4374 - accuracy: 0.8012\n",
            "Epoch 44/200\n",
            "11/11 [==============================] - 0s 18ms/step - loss: 0.4334 - accuracy: 0.8091\n",
            "Epoch 45/200\n",
            "11/11 [==============================] - 0s 21ms/step - loss: 0.4322 - accuracy: 0.8310\n",
            "Epoch 46/200\n",
            "11/11 [==============================] - 0s 23ms/step - loss: 0.4317 - accuracy: 0.8191\n",
            "Epoch 47/200\n",
            "11/11 [==============================] - 0s 13ms/step - loss: 0.4368 - accuracy: 0.8270\n",
            "Epoch 48/200\n",
            "11/11 [==============================] - 0s 17ms/step - loss: 0.4262 - accuracy: 0.8231\n",
            "Epoch 49/200\n",
            "11/11 [==============================] - 0s 14ms/step - loss: 0.4328 - accuracy: 0.8131\n",
            "Epoch 50/200\n",
            "11/11 [==============================] - 0s 17ms/step - loss: 0.4339 - accuracy: 0.8111\n",
            "Epoch 51/200\n",
            "11/11 [==============================] - 0s 22ms/step - loss: 0.4148 - accuracy: 0.8270\n",
            "Epoch 52/200\n",
            "11/11 [==============================] - 0s 16ms/step - loss: 0.4390 - accuracy: 0.8032\n",
            "Epoch 53/200\n",
            "11/11 [==============================] - 0s 14ms/step - loss: 0.4360 - accuracy: 0.8191\n",
            "Epoch 54/200\n",
            "11/11 [==============================] - 0s 14ms/step - loss: 0.4094 - accuracy: 0.8270\n",
            "Epoch 55/200\n",
            "11/11 [==============================] - 0s 14ms/step - loss: 0.4250 - accuracy: 0.8111\n",
            "Epoch 56/200\n",
            "11/11 [==============================] - 0s 15ms/step - loss: 0.4237 - accuracy: 0.8330\n",
            "Epoch 57/200\n",
            "11/11 [==============================] - 0s 8ms/step - loss: 0.4304 - accuracy: 0.8012\n",
            "Epoch 58/200\n",
            "11/11 [==============================] - 0s 13ms/step - loss: 0.4258 - accuracy: 0.8270\n",
            "Epoch 59/200\n",
            "11/11 [==============================] - 0s 7ms/step - loss: 0.4309 - accuracy: 0.8151\n",
            "Epoch 60/200\n",
            "11/11 [==============================] - 0s 4ms/step - loss: 0.4203 - accuracy: 0.8111\n",
            "Epoch 61/200\n",
            "11/11 [==============================] - 0s 4ms/step - loss: 0.4171 - accuracy: 0.8250\n",
            "Epoch 62/200\n",
            "11/11 [==============================] - 0s 7ms/step - loss: 0.4394 - accuracy: 0.8151\n",
            "Epoch 63/200\n",
            "11/11 [==============================] - 0s 28ms/step - loss: 0.4252 - accuracy: 0.8151\n",
            "Epoch 64/200\n",
            "11/11 [==============================] - 0s 7ms/step - loss: 0.4248 - accuracy: 0.8012\n",
            "Epoch 65/200\n",
            "11/11 [==============================] - 0s 5ms/step - loss: 0.4480 - accuracy: 0.8191\n",
            "Epoch 66/200\n",
            "11/11 [==============================] - 0s 16ms/step - loss: 0.4298 - accuracy: 0.8290\n",
            "Epoch 67/200\n",
            "11/11 [==============================] - 0s 4ms/step - loss: 0.4537 - accuracy: 0.8111\n",
            "Epoch 68/200\n",
            "11/11 [==============================] - 0s 18ms/step - loss: 0.4357 - accuracy: 0.8131\n",
            "Epoch 69/200\n",
            "11/11 [==============================] - 0s 4ms/step - loss: 0.4267 - accuracy: 0.8250\n",
            "Epoch 70/200\n",
            "11/11 [==============================] - 0s 19ms/step - loss: 0.4280 - accuracy: 0.8270\n",
            "Epoch 71/200\n",
            "11/11 [==============================] - 0s 14ms/step - loss: 0.4267 - accuracy: 0.8191\n",
            "Epoch 72/200\n",
            "11/11 [==============================] - 0s 13ms/step - loss: 0.4418 - accuracy: 0.8091\n",
            "Epoch 73/200\n",
            "11/11 [==============================] - 0s 4ms/step - loss: 0.4068 - accuracy: 0.8231\n",
            "Epoch 74/200\n",
            "11/11 [==============================] - 0s 27ms/step - loss: 0.4152 - accuracy: 0.8211\n",
            "Epoch 75/200\n",
            "11/11 [==============================] - 0s 10ms/step - loss: 0.4257 - accuracy: 0.8211\n",
            "Epoch 76/200\n",
            "11/11 [==============================] - 0s 7ms/step - loss: 0.4381 - accuracy: 0.8151\n",
            "Epoch 77/200\n",
            "11/11 [==============================] - 0s 6ms/step - loss: 0.4276 - accuracy: 0.8171\n",
            "Epoch 78/200\n",
            "11/11 [==============================] - 0s 7ms/step - loss: 0.4199 - accuracy: 0.8270\n",
            "Epoch 79/200\n",
            "11/11 [==============================] - 0s 7ms/step - loss: 0.4233 - accuracy: 0.8231\n",
            "Epoch 80/200\n",
            "11/11 [==============================] - 0s 7ms/step - loss: 0.4161 - accuracy: 0.8330\n",
            "Epoch 81/200\n",
            "11/11 [==============================] - 0s 4ms/step - loss: 0.4340 - accuracy: 0.7932\n",
            "Epoch 82/200\n",
            "11/11 [==============================] - 0s 9ms/step - loss: 0.4461 - accuracy: 0.8072\n",
            "Epoch 83/200\n",
            "11/11 [==============================] - 0s 9ms/step - loss: 0.4309 - accuracy: 0.8310\n",
            "Epoch 84/200\n",
            "11/11 [==============================] - 0s 8ms/step - loss: 0.4270 - accuracy: 0.8191\n",
            "Epoch 85/200\n",
            "11/11 [==============================] - 0s 9ms/step - loss: 0.4208 - accuracy: 0.8250\n",
            "Epoch 86/200\n",
            "11/11 [==============================] - 0s 8ms/step - loss: 0.4170 - accuracy: 0.8290\n",
            "Epoch 87/200\n",
            "11/11 [==============================] - 0s 8ms/step - loss: 0.4206 - accuracy: 0.8191\n",
            "Epoch 88/200\n",
            "11/11 [==============================] - 0s 8ms/step - loss: 0.4266 - accuracy: 0.8151\n",
            "Epoch 89/200\n",
            "11/11 [==============================] - 0s 4ms/step - loss: 0.4226 - accuracy: 0.8231\n",
            "Epoch 90/200\n",
            "11/11 [==============================] - 0s 16ms/step - loss: 0.4333 - accuracy: 0.8191\n",
            "Epoch 91/200\n",
            "11/11 [==============================] - 0s 21ms/step - loss: 0.4333 - accuracy: 0.8151\n",
            "Epoch 92/200\n",
            "11/11 [==============================] - 0s 6ms/step - loss: 0.4154 - accuracy: 0.8310\n",
            "Epoch 93/200\n",
            "11/11 [==============================] - 0s 5ms/step - loss: 0.4129 - accuracy: 0.8310\n",
            "Epoch 94/200\n",
            "11/11 [==============================] - 0s 14ms/step - loss: 0.4273 - accuracy: 0.8111\n",
            "Epoch 95/200\n",
            "11/11 [==============================] - 0s 5ms/step - loss: 0.4281 - accuracy: 0.8091\n",
            "Epoch 96/200\n",
            "11/11 [==============================] - 0s 6ms/step - loss: 0.3999 - accuracy: 0.8111\n",
            "Epoch 97/200\n",
            "11/11 [==============================] - 0s 17ms/step - loss: 0.4165 - accuracy: 0.8290\n",
            "Epoch 98/200\n",
            "11/11 [==============================] - 0s 6ms/step - loss: 0.4261 - accuracy: 0.8091\n",
            "Epoch 99/200\n",
            "11/11 [==============================] - 0s 7ms/step - loss: 0.4267 - accuracy: 0.8231\n",
            "Epoch 100/200\n",
            "11/11 [==============================] - 0s 6ms/step - loss: 0.4086 - accuracy: 0.8270\n",
            "Epoch 101/200\n",
            "11/11 [==============================] - 0s 9ms/step - loss: 0.4276 - accuracy: 0.8072\n",
            "Epoch 102/200\n",
            "11/11 [==============================] - 0s 6ms/step - loss: 0.4334 - accuracy: 0.8131\n",
            "Epoch 103/200\n",
            "11/11 [==============================] - 0s 6ms/step - loss: 0.4112 - accuracy: 0.8270\n",
            "Epoch 104/200\n",
            "11/11 [==============================] - 0s 5ms/step - loss: 0.4352 - accuracy: 0.8151\n",
            "Epoch 105/200\n",
            "11/11 [==============================] - 0s 4ms/step - loss: 0.4034 - accuracy: 0.8390\n",
            "Epoch 106/200\n",
            "11/11 [==============================] - 0s 6ms/step - loss: 0.4051 - accuracy: 0.8390\n",
            "Epoch 107/200\n",
            "11/11 [==============================] - 0s 12ms/step - loss: 0.4200 - accuracy: 0.8191\n",
            "Epoch 108/200\n",
            "11/11 [==============================] - 0s 5ms/step - loss: 0.4121 - accuracy: 0.8211\n",
            "Epoch 109/200\n",
            "11/11 [==============================] - 0s 6ms/step - loss: 0.4237 - accuracy: 0.8211\n",
            "Epoch 110/200\n",
            "11/11 [==============================] - 0s 5ms/step - loss: 0.4257 - accuracy: 0.8111\n",
            "Epoch 111/200\n",
            "11/11 [==============================] - 0s 5ms/step - loss: 0.4089 - accuracy: 0.8310\n",
            "Epoch 112/200\n",
            "11/11 [==============================] - 0s 6ms/step - loss: 0.4200 - accuracy: 0.8091\n",
            "Epoch 113/200\n",
            "11/11 [==============================] - 0s 5ms/step - loss: 0.4312 - accuracy: 0.8310\n",
            "Epoch 114/200\n",
            "11/11 [==============================] - 0s 4ms/step - loss: 0.4183 - accuracy: 0.8290\n",
            "Epoch 115/200\n",
            "11/11 [==============================] - 0s 7ms/step - loss: 0.4396 - accuracy: 0.8191\n",
            "Epoch 116/200\n",
            "11/11 [==============================] - 0s 7ms/step - loss: 0.4135 - accuracy: 0.8250\n",
            "Epoch 117/200\n",
            "11/11 [==============================] - 0s 7ms/step - loss: 0.4462 - accuracy: 0.7992\n",
            "Epoch 118/200\n",
            "11/11 [==============================] - 0s 4ms/step - loss: 0.4157 - accuracy: 0.8330\n",
            "Epoch 119/200\n",
            "11/11 [==============================] - 0s 7ms/step - loss: 0.4206 - accuracy: 0.8072\n",
            "Epoch 120/200\n",
            "11/11 [==============================] - 0s 5ms/step - loss: 0.4311 - accuracy: 0.8131\n",
            "Epoch 121/200\n",
            "11/11 [==============================] - 0s 5ms/step - loss: 0.4024 - accuracy: 0.8310\n",
            "Epoch 122/200\n",
            "11/11 [==============================] - 0s 4ms/step - loss: 0.4014 - accuracy: 0.8330\n",
            "Epoch 123/200\n",
            "11/11 [==============================] - 0s 5ms/step - loss: 0.4128 - accuracy: 0.8191\n",
            "Epoch 124/200\n",
            "11/11 [==============================] - 0s 4ms/step - loss: 0.4215 - accuracy: 0.8270\n",
            "Epoch 125/200\n",
            "11/11 [==============================] - 0s 7ms/step - loss: 0.4261 - accuracy: 0.8012\n",
            "Epoch 126/200\n",
            "11/11 [==============================] - 0s 5ms/step - loss: 0.4102 - accuracy: 0.8330\n",
            "Epoch 127/200\n",
            "11/11 [==============================] - 0s 5ms/step - loss: 0.4187 - accuracy: 0.8171\n",
            "Epoch 128/200\n",
            "11/11 [==============================] - 0s 5ms/step - loss: 0.4114 - accuracy: 0.8171\n",
            "Epoch 129/200\n",
            "11/11 [==============================] - 0s 5ms/step - loss: 0.3895 - accuracy: 0.8350\n",
            "Epoch 130/200\n",
            "11/11 [==============================] - 0s 5ms/step - loss: 0.4216 - accuracy: 0.8191\n",
            "Epoch 131/200\n",
            "11/11 [==============================] - 0s 8ms/step - loss: 0.4116 - accuracy: 0.8211\n",
            "Epoch 132/200\n",
            "11/11 [==============================] - 0s 5ms/step - loss: 0.4184 - accuracy: 0.8410\n",
            "Epoch 133/200\n",
            "11/11 [==============================] - 0s 6ms/step - loss: 0.4300 - accuracy: 0.8151\n",
            "Epoch 134/200\n",
            "11/11 [==============================] - 0s 5ms/step - loss: 0.3967 - accuracy: 0.8330\n",
            "Epoch 135/200\n",
            "11/11 [==============================] - 0s 4ms/step - loss: 0.4032 - accuracy: 0.8270\n",
            "Epoch 136/200\n",
            "11/11 [==============================] - 0s 19ms/step - loss: 0.4076 - accuracy: 0.8370\n",
            "Epoch 137/200\n",
            "11/11 [==============================] - 0s 6ms/step - loss: 0.4204 - accuracy: 0.8131\n",
            "Epoch 138/200\n",
            "11/11 [==============================] - 0s 3ms/step - loss: 0.4106 - accuracy: 0.8250\n",
            "Epoch 139/200\n",
            "11/11 [==============================] - 0s 3ms/step - loss: 0.3965 - accuracy: 0.8290\n",
            "Epoch 140/200\n",
            "11/11 [==============================] - 0s 3ms/step - loss: 0.4212 - accuracy: 0.8250\n",
            "Epoch 141/200\n",
            "11/11 [==============================] - 0s 15ms/step - loss: 0.4234 - accuracy: 0.8131\n",
            "Epoch 142/200\n",
            "11/11 [==============================] - 0s 7ms/step - loss: 0.4191 - accuracy: 0.8270\n",
            "Epoch 143/200\n",
            "11/11 [==============================] - 0s 6ms/step - loss: 0.4098 - accuracy: 0.8151\n",
            "Epoch 144/200\n",
            "11/11 [==============================] - 0s 5ms/step - loss: 0.4104 - accuracy: 0.8429\n",
            "Epoch 145/200\n",
            "11/11 [==============================] - 0s 6ms/step - loss: 0.4138 - accuracy: 0.8290\n",
            "Epoch 146/200\n",
            "11/11 [==============================] - 0s 4ms/step - loss: 0.4100 - accuracy: 0.8250\n",
            "Epoch 147/200\n",
            "11/11 [==============================] - 0s 4ms/step - loss: 0.4036 - accuracy: 0.8370\n",
            "Epoch 148/200\n",
            "11/11 [==============================] - 0s 6ms/step - loss: 0.4023 - accuracy: 0.8191\n",
            "Epoch 149/200\n",
            "11/11 [==============================] - 0s 7ms/step - loss: 0.3941 - accuracy: 0.8310\n",
            "Epoch 150/200\n",
            "11/11 [==============================] - 0s 7ms/step - loss: 0.3925 - accuracy: 0.8310\n",
            "Epoch 151/200\n",
            "11/11 [==============================] - 0s 9ms/step - loss: 0.4076 - accuracy: 0.8151\n",
            "Epoch 152/200\n",
            "11/11 [==============================] - 0s 4ms/step - loss: 0.4022 - accuracy: 0.8270\n",
            "Epoch 153/200\n",
            "11/11 [==============================] - 0s 3ms/step - loss: 0.4081 - accuracy: 0.8310\n",
            "Epoch 154/200\n",
            "11/11 [==============================] - 0s 7ms/step - loss: 0.4202 - accuracy: 0.8171\n",
            "Epoch 155/200\n",
            "11/11 [==============================] - 0s 6ms/step - loss: 0.3984 - accuracy: 0.8290\n",
            "Epoch 156/200\n",
            "11/11 [==============================] - 0s 6ms/step - loss: 0.4314 - accuracy: 0.8231\n",
            "Epoch 157/200\n",
            "11/11 [==============================] - 0s 4ms/step - loss: 0.4147 - accuracy: 0.8211\n",
            "Epoch 158/200\n",
            "11/11 [==============================] - 0s 7ms/step - loss: 0.4032 - accuracy: 0.8250\n",
            "Epoch 159/200\n",
            "11/11 [==============================] - 0s 4ms/step - loss: 0.4073 - accuracy: 0.8270\n",
            "Epoch 160/200\n",
            "11/11 [==============================] - 0s 6ms/step - loss: 0.4261 - accuracy: 0.8231\n",
            "Epoch 161/200\n",
            "11/11 [==============================] - 0s 6ms/step - loss: 0.3995 - accuracy: 0.8330\n",
            "Epoch 162/200\n",
            "11/11 [==============================] - 0s 4ms/step - loss: 0.4072 - accuracy: 0.8231\n",
            "Epoch 163/200\n",
            "11/11 [==============================] - 0s 6ms/step - loss: 0.4084 - accuracy: 0.8250\n",
            "Epoch 164/200\n",
            "11/11 [==============================] - 0s 5ms/step - loss: 0.4219 - accuracy: 0.8072\n",
            "Epoch 165/200\n",
            "11/11 [==============================] - 0s 5ms/step - loss: 0.4152 - accuracy: 0.8211\n",
            "Epoch 166/200\n",
            "11/11 [==============================] - 0s 6ms/step - loss: 0.4092 - accuracy: 0.8211\n",
            "Epoch 167/200\n",
            "11/11 [==============================] - 0s 8ms/step - loss: 0.4196 - accuracy: 0.8131\n",
            "Epoch 168/200\n",
            "11/11 [==============================] - 0s 6ms/step - loss: 0.4149 - accuracy: 0.8290\n",
            "Epoch 169/200\n",
            "11/11 [==============================] - 0s 5ms/step - loss: 0.4117 - accuracy: 0.8211\n",
            "Epoch 170/200\n",
            "11/11 [==============================] - 0s 5ms/step - loss: 0.4047 - accuracy: 0.8310\n",
            "Epoch 171/200\n",
            "11/11 [==============================] - 0s 4ms/step - loss: 0.3951 - accuracy: 0.8290\n",
            "Epoch 172/200\n",
            "11/11 [==============================] - 0s 5ms/step - loss: 0.4306 - accuracy: 0.8111\n",
            "Epoch 173/200\n",
            "11/11 [==============================] - 0s 4ms/step - loss: 0.4229 - accuracy: 0.8191\n",
            "Epoch 174/200\n",
            "11/11 [==============================] - 0s 7ms/step - loss: 0.4158 - accuracy: 0.8250\n",
            "Epoch 175/200\n",
            "11/11 [==============================] - 0s 7ms/step - loss: 0.4031 - accuracy: 0.8390\n",
            "Epoch 176/200\n",
            "11/11 [==============================] - 0s 7ms/step - loss: 0.4286 - accuracy: 0.8231\n",
            "Epoch 177/200\n",
            "11/11 [==============================] - 0s 5ms/step - loss: 0.4137 - accuracy: 0.8270\n",
            "Epoch 178/200\n",
            "11/11 [==============================] - 0s 15ms/step - loss: 0.4199 - accuracy: 0.8131\n",
            "Epoch 179/200\n",
            "11/11 [==============================] - 0s 5ms/step - loss: 0.3884 - accuracy: 0.8330\n",
            "Epoch 180/200\n",
            "11/11 [==============================] - 0s 6ms/step - loss: 0.3977 - accuracy: 0.8231\n",
            "Epoch 181/200\n",
            "11/11 [==============================] - 0s 7ms/step - loss: 0.4053 - accuracy: 0.8390\n",
            "Epoch 182/200\n",
            "11/11 [==============================] - 0s 7ms/step - loss: 0.4055 - accuracy: 0.8350\n",
            "Epoch 183/200\n",
            "11/11 [==============================] - 0s 4ms/step - loss: 0.4201 - accuracy: 0.8131\n",
            "Epoch 184/200\n",
            "11/11 [==============================] - 0s 7ms/step - loss: 0.3998 - accuracy: 0.8429\n",
            "Epoch 185/200\n",
            "11/11 [==============================] - 0s 5ms/step - loss: 0.4018 - accuracy: 0.8211\n",
            "Epoch 186/200\n",
            "11/11 [==============================] - 0s 7ms/step - loss: 0.4209 - accuracy: 0.8091\n",
            "Epoch 187/200\n",
            "11/11 [==============================] - 0s 4ms/step - loss: 0.4040 - accuracy: 0.8270\n",
            "Epoch 188/200\n",
            "11/11 [==============================] - 0s 4ms/step - loss: 0.3817 - accuracy: 0.8429\n",
            "Epoch 189/200\n",
            "11/11 [==============================] - 0s 5ms/step - loss: 0.4035 - accuracy: 0.8151\n",
            "Epoch 190/200\n",
            "11/11 [==============================] - 0s 5ms/step - loss: 0.3912 - accuracy: 0.8469\n",
            "Epoch 191/200\n",
            "11/11 [==============================] - 0s 7ms/step - loss: 0.4172 - accuracy: 0.8072\n",
            "Epoch 192/200\n",
            "11/11 [==============================] - 0s 6ms/step - loss: 0.4139 - accuracy: 0.8290\n",
            "Epoch 193/200\n",
            "11/11 [==============================] - 0s 5ms/step - loss: 0.4214 - accuracy: 0.8032\n",
            "Epoch 194/200\n",
            "11/11 [==============================] - 0s 6ms/step - loss: 0.4053 - accuracy: 0.8131\n",
            "Epoch 195/200\n",
            "11/11 [==============================] - 0s 4ms/step - loss: 0.4050 - accuracy: 0.8191\n",
            "Epoch 196/200\n",
            "11/11 [==============================] - 0s 8ms/step - loss: 0.4080 - accuracy: 0.8290\n",
            "Epoch 197/200\n",
            "11/11 [==============================] - 0s 7ms/step - loss: 0.4034 - accuracy: 0.8270\n",
            "Epoch 198/200\n",
            "11/11 [==============================] - 0s 6ms/step - loss: 0.3942 - accuracy: 0.8350\n",
            "Epoch 199/200\n",
            "11/11 [==============================] - 0s 5ms/step - loss: 0.4082 - accuracy: 0.8171\n",
            "Epoch 200/200\n",
            "11/11 [==============================] - 0s 7ms/step - loss: 0.4160 - accuracy: 0.8231\n"
          ]
        },
        {
          "data": {
            "text/plain": [
              "<keras.callbacks.History at 0x150ebd160>"
            ]
          },
          "execution_count": 75,
          "metadata": {},
          "output_type": "execute_result"
        }
      ],
      "source": [
        "# Fit the model\n",
        "optimal_model.fit(X_train, Y_train, epochs = 200, batch_size = 48)"
      ]
    },
    {
      "cell_type": "markdown",
      "metadata": {
        "id": "VoUwyWTka5pr"
      },
      "source": [
        "# <font color='#2F4F4F'>5. Summary of Findings</font>\n",
        "\n",
        "Your summary of findings go here.."
      ]
    }
  ],
  "metadata": {
    "colab": {
      "name": "Guiding Notebook: Optimizing Neural Networks",
      "provenance": [],
      "toc_visible": true
    },
    "kernelspec": {
      "display_name": "Python 3.9.12 64-bit",
      "language": "python",
      "name": "python3"
    },
    "language_info": {
      "codemirror_mode": {
        "name": "ipython",
        "version": 3
      },
      "file_extension": ".py",
      "mimetype": "text/x-python",
      "name": "python",
      "nbconvert_exporter": "python",
      "pygments_lexer": "ipython3",
      "version": "3.9.12"
    },
    "vscode": {
      "interpreter": {
        "hash": "aee8b7b246df8f9039afb4144a1f6fd8d2ca17a180786b69acc140d282b71a49"
      }
    }
  },
  "nbformat": 4,
  "nbformat_minor": 0
}
